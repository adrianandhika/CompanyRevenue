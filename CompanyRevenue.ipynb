{
 "cells": [
  {
   "cell_type": "code",
   "execution_count": 144,
   "id": "2bb98dd5",
   "metadata": {},
   "outputs": [],
   "source": [
    "import matplotlib.pyplot as plt\n",
    "import pandas as pd\n",
    "import seaborn as sns\n",
    "import matplotlib.colors as mcolors\n",
    "import plotly.graph_objects as go"
   ]
  },
  {
   "cell_type": "code",
   "execution_count": 146,
   "id": "66bbc192",
   "metadata": {},
   "outputs": [
    {
     "name": "stderr",
     "output_type": "stream",
     "text": [
      "'git' is not recognized as an internal or external command,\n",
      "operable program or batch file.\n",
      "'git' is not recognized as an internal or external command,\n",
      "operable program or batch file.\n"
     ]
    }
   ],
   "source": [
    "!git config --global user.name \"adrianandhika\"\n",
    "!git config --global user.email \"adrian10ian@gmail.com\""
   ]
  },
  {
   "cell_type": "code",
   "execution_count": 101,
   "id": "9ca80abd",
   "metadata": {},
   "outputs": [
    {
     "data": {
      "text/html": [
       "<div>\n",
       "<style scoped>\n",
       "    .dataframe tbody tr th:only-of-type {\n",
       "        vertical-align: middle;\n",
       "    }\n",
       "\n",
       "    .dataframe tbody tr th {\n",
       "        vertical-align: top;\n",
       "    }\n",
       "\n",
       "    .dataframe thead th {\n",
       "        text-align: right;\n",
       "    }\n",
       "</style>\n",
       "<table border=\"1\" class=\"dataframe\">\n",
       "  <thead>\n",
       "    <tr style=\"text-align: right;\">\n",
       "      <th></th>\n",
       "      <th>Rank</th>\n",
       "      <th>Name</th>\n",
       "      <th>Industry</th>\n",
       "      <th>Revenue (USD millions)</th>\n",
       "      <th>Revenue growth</th>\n",
       "      <th>Employees</th>\n",
       "      <th>Headquarters</th>\n",
       "    </tr>\n",
       "  </thead>\n",
       "  <tbody>\n",
       "    <tr>\n",
       "      <th>0</th>\n",
       "      <td>1</td>\n",
       "      <td>Walmart</td>\n",
       "      <td>General merchandisers</td>\n",
       "      <td>572,754</td>\n",
       "      <td>2.4%</td>\n",
       "      <td>2,300,000</td>\n",
       "      <td>Bentonville, Arkansas</td>\n",
       "    </tr>\n",
       "    <tr>\n",
       "      <th>1</th>\n",
       "      <td>2</td>\n",
       "      <td>Amazon</td>\n",
       "      <td>Retail and Cloud Computing</td>\n",
       "      <td>469,822</td>\n",
       "      <td>21.7%</td>\n",
       "      <td>1,608,000</td>\n",
       "      <td>Seattle, Washington</td>\n",
       "    </tr>\n",
       "    <tr>\n",
       "      <th>2</th>\n",
       "      <td>3</td>\n",
       "      <td>Apple</td>\n",
       "      <td>Electronics industry</td>\n",
       "      <td>365,817</td>\n",
       "      <td>33.2%</td>\n",
       "      <td>154,000</td>\n",
       "      <td>Cupertino, California</td>\n",
       "    </tr>\n",
       "    <tr>\n",
       "      <th>3</th>\n",
       "      <td>4</td>\n",
       "      <td>CVS Health</td>\n",
       "      <td>Healthcare</td>\n",
       "      <td>292,111</td>\n",
       "      <td>32.0%</td>\n",
       "      <td>258,000</td>\n",
       "      <td>Woonsocket, Rhode Island</td>\n",
       "    </tr>\n",
       "    <tr>\n",
       "      <th>4</th>\n",
       "      <td>5</td>\n",
       "      <td>UnitedHealth Group</td>\n",
       "      <td>Healthcare</td>\n",
       "      <td>287,597</td>\n",
       "      <td>11.8%</td>\n",
       "      <td>350,000</td>\n",
       "      <td>Minnetonka, Minnesota</td>\n",
       "    </tr>\n",
       "    <tr>\n",
       "      <th>...</th>\n",
       "      <td>...</td>\n",
       "      <td>...</td>\n",
       "      <td>...</td>\n",
       "      <td>...</td>\n",
       "      <td>...</td>\n",
       "      <td>...</td>\n",
       "      <td>...</td>\n",
       "    </tr>\n",
       "    <tr>\n",
       "      <th>95</th>\n",
       "      <td>96</td>\n",
       "      <td>General Dynamics</td>\n",
       "      <td>Airspace and defense</td>\n",
       "      <td>38,469</td>\n",
       "      <td>8.7%</td>\n",
       "      <td>103,100</td>\n",
       "      <td>Reston, Virginia</td>\n",
       "    </tr>\n",
       "    <tr>\n",
       "      <th>96</th>\n",
       "      <td>97</td>\n",
       "      <td>CHS</td>\n",
       "      <td>Agriculture cooperative</td>\n",
       "      <td>38,448</td>\n",
       "      <td>1.4%</td>\n",
       "      <td>9,941</td>\n",
       "      <td>Inver Grove Heights, Minnesota</td>\n",
       "    </tr>\n",
       "    <tr>\n",
       "      <th>97</th>\n",
       "      <td>98</td>\n",
       "      <td>USAA</td>\n",
       "      <td>Financials</td>\n",
       "      <td>37,470</td>\n",
       "      <td>3.2%</td>\n",
       "      <td>37,335</td>\n",
       "      <td>San Antonio, Texas</td>\n",
       "    </tr>\n",
       "    <tr>\n",
       "      <th>98</th>\n",
       "      <td>99</td>\n",
       "      <td>Northwestern Mutual</td>\n",
       "      <td>Insurance</td>\n",
       "      <td>36,751</td>\n",
       "      <td>8.8%</td>\n",
       "      <td>7,585</td>\n",
       "      <td>Milwaukee, Wisconsin</td>\n",
       "    </tr>\n",
       "    <tr>\n",
       "      <th>99</th>\n",
       "      <td>100</td>\n",
       "      <td>Nucor</td>\n",
       "      <td>Metals</td>\n",
       "      <td>36,484</td>\n",
       "      <td>81.2%</td>\n",
       "      <td>28,800</td>\n",
       "      <td>Charlotte, North Carolina</td>\n",
       "    </tr>\n",
       "  </tbody>\n",
       "</table>\n",
       "<p>100 rows × 7 columns</p>\n",
       "</div>"
      ],
      "text/plain": [
       "    Rank                 Name                    Industry  \\\n",
       "0      1              Walmart       General merchandisers   \n",
       "1      2               Amazon  Retail and Cloud Computing   \n",
       "2      3                Apple        Electronics industry   \n",
       "3      4           CVS Health                  Healthcare   \n",
       "4      5   UnitedHealth Group                  Healthcare   \n",
       "..   ...                  ...                         ...   \n",
       "95    96     General Dynamics        Airspace and defense   \n",
       "96    97                  CHS     Agriculture cooperative   \n",
       "97    98                 USAA                  Financials   \n",
       "98    99  Northwestern Mutual                   Insurance   \n",
       "99   100                Nucor                      Metals   \n",
       "\n",
       "   Revenue (USD millions) Revenue growth  Employees  \\\n",
       "0                 572,754           2.4%  2,300,000   \n",
       "1                 469,822          21.7%  1,608,000   \n",
       "2                 365,817          33.2%    154,000   \n",
       "3                 292,111          32.0%    258,000   \n",
       "4                 287,597          11.8%    350,000   \n",
       "..                    ...            ...        ...   \n",
       "95                 38,469           8.7%    103,100   \n",
       "96                 38,448           1.4%      9,941   \n",
       "97                 37,470           3.2%     37,335   \n",
       "98                 36,751           8.8%      7,585   \n",
       "99                 36,484          81.2%     28,800   \n",
       "\n",
       "                      Headquarters  \n",
       "0            Bentonville, Arkansas  \n",
       "1              Seattle, Washington  \n",
       "2            Cupertino, California  \n",
       "3         Woonsocket, Rhode Island  \n",
       "4            Minnetonka, Minnesota  \n",
       "..                             ...  \n",
       "95                Reston, Virginia  \n",
       "96  Inver Grove Heights, Minnesota  \n",
       "97              San Antonio, Texas  \n",
       "98            Milwaukee, Wisconsin  \n",
       "99       Charlotte, North Carolina  \n",
       "\n",
       "[100 rows x 7 columns]"
      ]
     },
     "execution_count": 101,
     "metadata": {},
     "output_type": "execute_result"
    }
   ],
   "source": [
    "df = pd.read_csv('data.csv')\n",
    "df"
   ]
  },
  {
   "cell_type": "code",
   "execution_count": 102,
   "id": "25347495",
   "metadata": {},
   "outputs": [
    {
     "data": {
      "text/html": [
       "<div>\n",
       "<style scoped>\n",
       "    .dataframe tbody tr th:only-of-type {\n",
       "        vertical-align: middle;\n",
       "    }\n",
       "\n",
       "    .dataframe tbody tr th {\n",
       "        vertical-align: top;\n",
       "    }\n",
       "\n",
       "    .dataframe thead th {\n",
       "        text-align: right;\n",
       "    }\n",
       "</style>\n",
       "<table border=\"1\" class=\"dataframe\">\n",
       "  <thead>\n",
       "    <tr style=\"text-align: right;\">\n",
       "      <th></th>\n",
       "      <th>Name</th>\n",
       "      <th>Industry</th>\n",
       "      <th>Revenue</th>\n",
       "      <th>Revenue growth</th>\n",
       "      <th>Employees</th>\n",
       "    </tr>\n",
       "  </thead>\n",
       "  <tbody>\n",
       "    <tr>\n",
       "      <th>0</th>\n",
       "      <td>Walmart</td>\n",
       "      <td>General merchandisers</td>\n",
       "      <td>572754</td>\n",
       "      <td>2.4%</td>\n",
       "      <td>2300000</td>\n",
       "    </tr>\n",
       "    <tr>\n",
       "      <th>1</th>\n",
       "      <td>Amazon</td>\n",
       "      <td>Retail and Cloud Computing</td>\n",
       "      <td>469822</td>\n",
       "      <td>21.7%</td>\n",
       "      <td>1608000</td>\n",
       "    </tr>\n",
       "    <tr>\n",
       "      <th>2</th>\n",
       "      <td>Apple</td>\n",
       "      <td>Electronics industry</td>\n",
       "      <td>365817</td>\n",
       "      <td>33.2%</td>\n",
       "      <td>154000</td>\n",
       "    </tr>\n",
       "    <tr>\n",
       "      <th>3</th>\n",
       "      <td>CVS Health</td>\n",
       "      <td>Healthcare</td>\n",
       "      <td>292111</td>\n",
       "      <td>32.0%</td>\n",
       "      <td>258000</td>\n",
       "    </tr>\n",
       "    <tr>\n",
       "      <th>4</th>\n",
       "      <td>UnitedHealth Group</td>\n",
       "      <td>Healthcare</td>\n",
       "      <td>287597</td>\n",
       "      <td>11.8%</td>\n",
       "      <td>350000</td>\n",
       "    </tr>\n",
       "    <tr>\n",
       "      <th>...</th>\n",
       "      <td>...</td>\n",
       "      <td>...</td>\n",
       "      <td>...</td>\n",
       "      <td>...</td>\n",
       "      <td>...</td>\n",
       "    </tr>\n",
       "    <tr>\n",
       "      <th>95</th>\n",
       "      <td>General Dynamics</td>\n",
       "      <td>Airspace and defense</td>\n",
       "      <td>38469</td>\n",
       "      <td>8.7%</td>\n",
       "      <td>103100</td>\n",
       "    </tr>\n",
       "    <tr>\n",
       "      <th>96</th>\n",
       "      <td>CHS</td>\n",
       "      <td>Agriculture cooperative</td>\n",
       "      <td>38448</td>\n",
       "      <td>1.4%</td>\n",
       "      <td>9941</td>\n",
       "    </tr>\n",
       "    <tr>\n",
       "      <th>97</th>\n",
       "      <td>USAA</td>\n",
       "      <td>Financials</td>\n",
       "      <td>37470</td>\n",
       "      <td>3.2%</td>\n",
       "      <td>37335</td>\n",
       "    </tr>\n",
       "    <tr>\n",
       "      <th>98</th>\n",
       "      <td>Northwestern Mutual</td>\n",
       "      <td>Insurance</td>\n",
       "      <td>36751</td>\n",
       "      <td>8.8%</td>\n",
       "      <td>7585</td>\n",
       "    </tr>\n",
       "    <tr>\n",
       "      <th>99</th>\n",
       "      <td>Nucor</td>\n",
       "      <td>Metals</td>\n",
       "      <td>36484</td>\n",
       "      <td>81.2%</td>\n",
       "      <td>28800</td>\n",
       "    </tr>\n",
       "  </tbody>\n",
       "</table>\n",
       "<p>100 rows × 5 columns</p>\n",
       "</div>"
      ],
      "text/plain": [
       "                   Name                    Industry  Revenue Revenue growth  \\\n",
       "0               Walmart       General merchandisers   572754           2.4%   \n",
       "1                Amazon  Retail and Cloud Computing   469822          21.7%   \n",
       "2                 Apple        Electronics industry   365817          33.2%   \n",
       "3            CVS Health                  Healthcare   292111          32.0%   \n",
       "4    UnitedHealth Group                  Healthcare   287597          11.8%   \n",
       "..                  ...                         ...      ...            ...   \n",
       "95     General Dynamics        Airspace and defense    38469           8.7%   \n",
       "96                  CHS     Agriculture cooperative    38448           1.4%   \n",
       "97                 USAA                  Financials    37470           3.2%   \n",
       "98  Northwestern Mutual                   Insurance    36751           8.8%   \n",
       "99                Nucor                      Metals    36484          81.2%   \n",
       "\n",
       "    Employees  \n",
       "0     2300000  \n",
       "1     1608000  \n",
       "2      154000  \n",
       "3      258000  \n",
       "4      350000  \n",
       "..        ...  \n",
       "95     103100  \n",
       "96       9941  \n",
       "97      37335  \n",
       "98       7585  \n",
       "99      28800  \n",
       "\n",
       "[100 rows x 5 columns]"
      ]
     },
     "execution_count": 102,
     "metadata": {},
     "output_type": "execute_result"
    }
   ],
   "source": [
    "df_subset = df[['Name','Industry','Revenue (USD millions)','Revenue growth','Employees']]\n",
    "df_subset = df_subset.rename(columns={'Revenue (USD millions)' : 'Revenue'})\n",
    "df = df_subset\n",
    "df['Revenue'] = df['Revenue'].str.replace(',', '').astype(int)\n",
    "df['Employees'] = df['Employees'].str.replace(',', '').astype(int)\n",
    "df"
   ]
  },
  {
   "cell_type": "code",
   "execution_count": 103,
   "id": "a1c11597",
   "metadata": {},
   "outputs": [
    {
     "name": "stderr",
     "output_type": "stream",
     "text": [
      "C:\\Users\\Adrian\\AppData\\Local\\Temp\\ipykernel_12040\\810149673.py:9: MatplotlibDeprecationWarning:\n",
      "\n",
      "The seaborn styles shipped by Matplotlib are deprecated since 3.6, as they no longer correspond to the styles shipped by seaborn. However, they will remain available as 'seaborn-v0_8-<style>'. Alternatively, directly use the seaborn API instead.\n",
      "\n"
     ]
    },
    {
     "data": {
      "image/png": "[encoded data removed]",
      "text/plain": [
       "<Figure size 1000x600 with 1 Axes>"
      ]
     },
     "metadata": {},
     "output_type": "display_data"
    }
   ],
   "source": [
    "df_subset['Industry'].nunique()\n",
    "distinct_counts = df_subset['Industry'].value_counts().sort_values(ascending=False)\n",
    "top_10_distinct_counts = distinct_counts.head(10)\n",
    "\n",
    "custom_gold_colors = mcolors.LinearSegmentedColormap.from_list(\"\", [\"gold\", \"white\"])\n",
    "\n",
    "# Set the background color and style\n",
    "plt.figure(figsize=(10, 6))\n",
    "plt.style.use('seaborn-whitegrid')  # Use seaborn grid style\n",
    "plt.gca().set_facecolor('#F5F5F5')  # Set background color\n",
    "\n",
    "# Plot the vertical bar plot with custom gold to white colors\n",
    "bars = plt.bar(top_10_distinct_counts.index, top_10_distinct_counts, color=custom_gold_colors(range(len(top_10_distinct_counts))))\n",
    "plt.title('Top 10 Business Category', fontsize=24, fontweight='bold', fontname='Arial', pad=20)\n",
    "plt.xlabel('Business Category', fontsize=16, fontname='Arial', labelpad=10)\n",
    "plt.xticks(rotation=45, ha='right', fontsize=12, fontname='Arial')  # Rotate and set font size for x-axis labels\n",
    "plt.yticks(fontsize=12, fontname='Arial')\n",
    "plt.box(on=None)  # Remove the box around the plot\n",
    "\n",
    "# Annotate each bar with its value in white color\n",
    "for bar, value in zip(bars, top_10_distinct_counts):\n",
    "    plt.text(bar.get_x() + bar.get_width() / 2, bar.get_height(), str(value),\n",
    "             ha='center', va='bottom', fontsize=12, fontweight='bold', color='white')\n",
    "\n",
    "# Add a subtle shadow effect\n",
    "for bar in bars:\n",
    "    bar.set_edgecolor('gray')\n",
    "    bar.set_linewidth(0.7)\n",
    "    bar.set_alpha(0.9)\n",
    "\n",
    "plt.tight_layout()  # Adjust spacing\n",
    "plt.show()"
   ]
  },
  {
   "cell_type": "code",
   "execution_count": 131,
   "id": "662ba6a2",
   "metadata": {},
   "outputs": [
    {
     "data": {
      "application/vnd.plotly.v1+json": {
       "config": {
        "plotlyServerURL": "https://plot.ly"
       },
       "data": [
        {
         "line": {
          "color": "rgb(255, 255, 0)"
         },
         "marker": {
          "color": "rgb(255, 255, 0)",
          "line": {
           "color": "black",
           "width": 1
          },
          "size": 16
         },
         "mode": "lines+markers",
         "name": "Walmart",
         "type": "scatter",
         "x": [
          "Walmart"
         ],
         "y": [
          572754
         ]
        },
        {
         "line": {
          "color": "rgb(255, 249, 0)"
         },
         "marker": {
          "color": "rgb(255, 249, 0)",
          "line": {
           "color": "black",
           "width": 1
          },
          "size": 8
         },
         "mode": "lines+markers",
         "name": "Amazon",
         "type": "scatter",
         "x": [
          "Amazon"
         ],
         "y": [
          469822
         ]
        },
        {
         "line": {
          "color": "rgb(255, 244, 0)"
         },
         "marker": {
          "color": "rgb(255, 244, 0)",
          "line": {
           "color": "black",
           "width": 1
          },
          "size": 8
         },
         "mode": "lines+markers",
         "name": "Apple",
         "type": "scatter",
         "x": [
          "Apple"
         ],
         "y": [
          365817
         ]
        },
        {
         "line": {
          "color": "rgb(255, 239, 0)"
         },
         "marker": {
          "color": "rgb(255, 239, 0)",
          "line": {
           "color": "black",
           "width": 1
          },
          "size": 8
         },
         "mode": "lines+markers",
         "name": "CVS Health",
         "type": "scatter",
         "x": [
          "CVS Health"
         ],
         "y": [
          292111
         ]
        },
        {
         "line": {
          "color": "rgb(255, 234, 0)"
         },
         "marker": {
          "color": "rgb(255, 234, 0)",
          "line": {
           "color": "black",
           "width": 1
          },
          "size": 8
         },
         "mode": "lines+markers",
         "name": "UnitedHealth Group",
         "type": "scatter",
         "x": [
          "UnitedHealth Group"
         ],
         "y": [
          287597
         ]
        },
        {
         "line": {
          "color": "rgb(255, 228, 0)"
         },
         "marker": {
          "color": "rgb(255, 228, 0)",
          "line": {
           "color": "black",
           "width": 1
          },
          "size": 8
         },
         "mode": "lines+markers",
         "name": "Exxon Mobil",
         "type": "scatter",
         "x": [
          "Exxon Mobil"
         ],
         "y": [
          285640
         ]
        },
        {
         "line": {
          "color": "rgb(255, 223, 0)"
         },
         "marker": {
          "color": "rgb(255, 223, 0)",
          "line": {
           "color": "black",
           "width": 1
          },
          "size": 8
         },
         "mode": "lines+markers",
         "name": "Berkshire Hathaway",
         "type": "scatter",
         "x": [
          "Berkshire Hathaway"
         ],
         "y": [
          276094
         ]
        },
        {
         "line": {
          "color": "rgb(255, 218, 0)"
         },
         "marker": {
          "color": "rgb(255, 218, 0)",
          "line": {
           "color": "black",
           "width": 1
          },
          "size": 8
         },
         "mode": "lines+markers",
         "name": "Alphabet",
         "type": "scatter",
         "x": [
          "Alphabet"
         ],
         "y": [
          257637
         ]
        },
        {
         "line": {
          "color": "rgb(255, 213, 0)"
         },
         "marker": {
          "color": "rgb(255, 213, 0)",
          "line": {
           "color": "black",
           "width": 1
          },
          "size": 8
         },
         "mode": "lines+markers",
         "name": "McKesson Corporation",
         "type": "scatter",
         "x": [
          "McKesson Corporation"
         ],
         "y": [
          238228
         ]
        },
        {
         "line": {
          "color": "rgb(255, 208, 0)"
         },
         "marker": {
          "color": "rgb(255, 208, 0)",
          "line": {
           "color": "black",
           "width": 1
          },
          "size": 8
         },
         "mode": "lines+markers",
         "name": "AmerisourceBergen",
         "type": "scatter",
         "x": [
          "AmerisourceBergen"
         ],
         "y": [
          213989
         ]
        },
        {
         "line": {
          "color": "rgb(255, 202, 0)"
         },
         "marker": {
          "color": "rgb(255, 202, 0)",
          "line": {
           "color": "black",
           "width": 1
          },
          "size": 8
         },
         "mode": "lines+markers",
         "name": "Microsoft",
         "type": "scatter",
         "x": [
          "Microsoft"
         ],
         "y": [
          198087
         ]
        },
        {
         "line": {
          "color": "rgb(255, 197, 0)"
         },
         "marker": {
          "color": "rgb(255, 197, 0)",
          "line": {
           "color": "black",
           "width": 1
          },
          "size": 8
         },
         "mode": "lines+markers",
         "name": "Costco",
         "type": "scatter",
         "x": [
          "Costco"
         ],
         "y": [
          195929
         ]
        },
        {
         "line": {
          "color": "rgb(255, 192, 0)"
         },
         "marker": {
          "color": "rgb(255, 192, 0)",
          "line": {
           "color": "black",
           "width": 1
          },
          "size": 8
         },
         "mode": "lines+markers",
         "name": "Cigna",
         "type": "scatter",
         "x": [
          "Cigna"
         ],
         "y": [
          174078
         ]
        },
        {
         "line": {
          "color": "rgb(255, 187, 0)"
         },
         "marker": {
          "color": "rgb(255, 187, 0)",
          "line": {
           "color": "black",
           "width": 1
          },
          "size": 8
         },
         "mode": "lines+markers",
         "name": "AT&T",
         "type": "scatter",
         "x": [
          "AT&T"
         ],
         "y": [
          168864
         ]
        },
        {
         "line": {
          "color": "rgb(255, 182, 0)"
         },
         "marker": {
          "color": "rgb(255, 182, 0)",
          "line": {
           "color": "black",
           "width": 1
          },
          "size": 8
         },
         "mode": "lines+markers",
         "name": "Cardinal Health",
         "type": "scatter",
         "x": [
          "Cardinal Health"
         ],
         "y": [
          162467
         ]
        },
        {
         "line": {
          "color": "rgb(255, 176, 0)"
         },
         "marker": {
          "color": "rgb(255, 176, 0)",
          "line": {
           "color": "black",
           "width": 1
          },
          "size": 8
         },
         "mode": "lines+markers",
         "name": "Chevron Corporation",
         "type": "scatter",
         "x": [
          "Chevron Corporation"
         ],
         "y": [
          162465
         ]
        },
        {
         "line": {
          "color": "rgb(255, 171, 0)"
         },
         "marker": {
          "color": "rgb(255, 171, 0)",
          "line": {
           "color": "black",
           "width": 1
          },
          "size": 8
         },
         "mode": "lines+markers",
         "name": "The Home Depot",
         "type": "scatter",
         "x": [
          "The Home Depot"
         ],
         "y": [
          151157
         ]
        },
        {
         "line": {
          "color": "rgb(255, 166, 0)"
         },
         "marker": {
          "color": "rgb(255, 166, 0)",
          "line": {
           "color": "black",
           "width": 1
          },
          "size": 8
         },
         "mode": "lines+markers",
         "name": "Walgreens Boots Alliance",
         "type": "scatter",
         "x": [
          "Walgreens Boots Alliance"
         ],
         "y": [
          148579
         ]
        },
        {
         "line": {
          "color": "rgb(255, 161, 0)"
         },
         "marker": {
          "color": "rgb(255, 161, 0)",
          "line": {
           "color": "black",
           "width": 1
          },
          "size": 8
         },
         "mode": "lines+markers",
         "name": "Marathon Petroleum",
         "type": "scatter",
         "x": [
          "Marathon Petroleum"
         ],
         "y": [
          141032
         ]
        },
        {
         "line": {
          "color": "rgb(255, 156, 0)"
         },
         "marker": {
          "color": "rgb(255, 156, 0)",
          "line": {
           "color": "black",
           "width": 1
          },
          "size": 8
         },
         "mode": "lines+markers",
         "name": "Elevance Health",
         "type": "scatter",
         "x": [
          "Elevance Health"
         ],
         "y": [
          138639
         ]
        },
        {
         "line": {
          "color": "rgb(255, 150, 0)"
         },
         "marker": {
          "color": "rgb(255, 150, 0)",
          "line": {
           "color": "black",
           "width": 1
          },
          "size": 8
         },
         "mode": "lines+markers",
         "name": "Kroger",
         "type": "scatter",
         "x": [
          "Kroger"
         ],
         "y": [
          137888
         ]
        },
        {
         "line": {
          "color": "rgb(255, 145, 0)"
         },
         "marker": {
          "color": "rgb(255, 145, 0)",
          "line": {
           "color": "black",
           "width": 1
          },
          "size": 8
         },
         "mode": "lines+markers",
         "name": "Ford Motor Company",
         "type": "scatter",
         "x": [
          "Ford Motor Company"
         ],
         "y": [
          136341
         ]
        },
        {
         "line": {
          "color": "rgb(255, 140, 0)"
         },
         "marker": {
          "color": "rgb(255, 140, 0)",
          "line": {
           "color": "black",
           "width": 1
          },
          "size": 8
         },
         "mode": "lines+markers",
         "name": "Verizon Communications",
         "type": "scatter",
         "x": [
          "Verizon Communications"
         ],
         "y": [
          133613
         ]
        },
        {
         "line": {
          "color": "rgb(255, 135, 0)"
         },
         "marker": {
          "color": "rgb(255, 135, 0)",
          "line": {
           "color": "black",
           "width": 1
          },
          "size": 8
         },
         "mode": "lines+markers",
         "name": "JPMorgan Chase",
         "type": "scatter",
         "x": [
          "JPMorgan Chase"
         ],
         "y": [
          127202
         ]
        },
        {
         "line": {
          "color": "rgb(255, 130, 0)"
         },
         "marker": {
          "color": "rgb(255, 130, 0)",
          "line": {
           "color": "black",
           "width": 1
          },
          "size": 8
         },
         "mode": "lines+markers",
         "name": "General Motors",
         "type": "scatter",
         "x": [
          "General Motors"
         ],
         "y": [
          127004
         ]
        },
        {
         "line": {
          "color": "rgb(255, 124, 0)"
         },
         "marker": {
          "color": "rgb(255, 124, 0)",
          "line": {
           "color": "black",
           "width": 1
          },
          "size": 8
         },
         "mode": "lines+markers",
         "name": "Centene",
         "type": "scatter",
         "x": [
          "Centene"
         ],
         "y": [
          125982
         ]
        },
        {
         "line": {
          "color": "rgb(255, 119, 0)"
         },
         "marker": {
          "color": "rgb(255, 119, 0)",
          "line": {
           "color": "black",
           "width": 1
          },
          "size": 8
         },
         "mode": "lines+markers",
         "name": "Meta Platforms",
         "type": "scatter",
         "x": [
          "Meta Platforms"
         ],
         "y": [
          117385
         ]
        },
        {
         "line": {
          "color": "rgb(255, 114, 0)"
         },
         "marker": {
          "color": "rgb(255, 114, 0)",
          "line": {
           "color": "black",
           "width": 1
          },
          "size": 8
         },
         "mode": "lines+markers",
         "name": "Comcast",
         "type": "scatter",
         "x": [
          "Comcast"
         ],
         "y": [
          116385
         ]
        },
        {
         "line": {
          "color": "rgb(255, 109, 0)"
         },
         "marker": {
          "color": "rgb(255, 109, 0)",
          "line": {
           "color": "black",
           "width": 1
          },
          "size": 8
         },
         "mode": "lines+markers",
         "name": "Phillips 66",
         "type": "scatter",
         "x": [
          "Phillips 66"
         ],
         "y": [
          114852
         ]
        },
        {
         "line": {
          "color": "rgb(255, 104, 0)"
         },
         "marker": {
          "color": "rgb(255, 104, 0)",
          "line": {
           "color": "black",
           "width": 1
          },
          "size": 8
         },
         "mode": "lines+markers",
         "name": "Valero Energy",
         "type": "scatter",
         "x": [
          "Valero Energy"
         ],
         "y": [
          108332
         ]
        },
        {
         "line": {
          "color": "rgb(255, 98, 0)"
         },
         "marker": {
          "color": "rgb(255, 98, 0)",
          "line": {
           "color": "black",
           "width": 1
          },
          "size": 8
         },
         "mode": "lines+markers",
         "name": "Dell Technologies",
         "type": "scatter",
         "x": [
          "Dell Technologies"
         ],
         "y": [
          106995
         ]
        },
        {
         "line": {
          "color": "rgb(255, 93, 0)"
         },
         "marker": {
          "color": "rgb(255, 93, 0)",
          "line": {
           "color": "black",
           "width": 1
          },
          "size": 8
         },
         "mode": "lines+markers",
         "name": "Target Corporation",
         "type": "scatter",
         "x": [
          "Target Corporation"
         ],
         "y": [
          106005
         ]
        },
        {
         "line": {
          "color": "rgb(255, 88, 0)"
         },
         "marker": {
          "color": "rgb(255, 88, 0)",
          "line": {
           "color": "black",
           "width": 1
          },
          "size": 8
         },
         "mode": "lines+markers",
         "name": "Fannie Mae",
         "type": "scatter",
         "x": [
          "Fannie Mae"
         ],
         "y": [
          101543
         ]
        },
        {
         "line": {
          "color": "rgb(255, 83, 0)"
         },
         "marker": {
          "color": "rgb(255, 83, 0)",
          "line": {
           "color": "black",
           "width": 1
          },
          "size": 8
         },
         "mode": "lines+markers",
         "name": "United Parcel Service",
         "type": "scatter",
         "x": [
          "United Parcel Service"
         ],
         "y": [
          97287
         ]
        },
        {
         "line": {
          "color": "rgb(255, 78, 0)"
         },
         "marker": {
          "color": "rgb(255, 78, 0)",
          "line": {
           "color": "black",
           "width": 1
          },
          "size": 8
         },
         "mode": "lines+markers",
         "name": "Lowe's",
         "type": "scatter",
         "x": [
          "Lowe's"
         ],
         "y": [
          96250
         ]
        },
        {
         "line": {
          "color": "rgb(255, 72, 0)"
         },
         "marker": {
          "color": "rgb(255, 72, 0)",
          "line": {
           "color": "black",
           "width": 1
          },
          "size": 8
         },
         "mode": "lines+markers",
         "name": "Bank of America",
         "type": "scatter",
         "x": [
          "Bank of America"
         ],
         "y": [
          93851
         ]
        },
        {
         "line": {
          "color": "rgb(255, 67, 0)"
         },
         "marker": {
          "color": "rgb(255, 67, 0)",
          "line": {
           "color": "black",
           "width": 1
          },
          "size": 8
         },
         "mode": "lines+markers",
         "name": "Johnson & Johnson",
         "type": "scatter",
         "x": [
          "Johnson & Johnson"
         ],
         "y": [
          93775
         ]
        },
        {
         "line": {
          "color": "rgb(255, 62, 0)"
         },
         "marker": {
          "color": "rgb(255, 62, 0)",
          "line": {
           "color": "black",
           "width": 1
          },
          "size": 8
         },
         "mode": "lines+markers",
         "name": "Archer Daniels Midland",
         "type": "scatter",
         "x": [
          "Archer Daniels Midland"
         ],
         "y": [
          85959
         ]
        },
        {
         "line": {
          "color": "rgb(255, 57, 0)"
         },
         "marker": {
          "color": "rgb(255, 57, 0)",
          "line": {
           "color": "black",
           "width": 1
          },
          "size": 8
         },
         "mode": "lines+markers",
         "name": "FedEx",
         "type": "scatter",
         "x": [
          "FedEx"
         ],
         "y": [
          83959
         ]
        },
        {
         "line": {
          "color": "rgb(255, 52, 0)"
         },
         "marker": {
          "color": "rgb(255, 52, 0)",
          "line": {
           "color": "black",
           "width": 1
          },
          "size": 8
         },
         "mode": "lines+markers",
         "name": "Humana",
         "type": "scatter",
         "x": [
          "Humana"
         ],
         "y": [
          83064
         ]
        },
        {
         "line": {
          "color": "rgb(255, 46, 0)"
         },
         "marker": {
          "color": "rgb(255, 46, 0)",
          "line": {
           "color": "black",
           "width": 1
          },
          "size": 8
         },
         "mode": "lines+markers",
         "name": "Wells Fargo",
         "type": "scatter",
         "x": [
          "Wells Fargo"
         ],
         "y": [
          82407
         ]
        },
        {
         "line": {
          "color": "rgb(255, 41, 0)"
         },
         "marker": {
          "color": "rgb(255, 41, 0)",
          "line": {
           "color": "black",
           "width": 1
          },
          "size": 8
         },
         "mode": "lines+markers",
         "name": "State Farm",
         "type": "scatter",
         "x": [
          "State Farm"
         ],
         "y": [
          82407
         ]
        },
        {
         "line": {
          "color": "rgb(255, 36, 0)"
         },
         "marker": {
          "color": "rgb(255, 36, 0)",
          "line": {
           "color": "black",
           "width": 1
          },
          "size": 8
         },
         "mode": "lines+markers",
         "name": "Pfizer",
         "type": "scatter",
         "x": [
          "Pfizer"
         ],
         "y": [
          81288
         ]
        },
        {
         "line": {
          "color": "rgb(255, 31, 0)"
         },
         "marker": {
          "color": "rgb(255, 31, 0)",
          "line": {
           "color": "black",
           "width": 1
          },
          "size": 8
         },
         "mode": "lines+markers",
         "name": "Citigroup",
         "type": "scatter",
         "x": [
          "Citigroup"
         ],
         "y": [
          79865
         ]
        },
        {
         "line": {
          "color": "rgb(255, 26, 0)"
         },
         "marker": {
          "color": "rgb(255, 26, 0)",
          "line": {
           "color": "black",
           "width": 1
          },
          "size": 8
         },
         "mode": "lines+markers",
         "name": "PepsiCo",
         "type": "scatter",
         "x": [
          "PepsiCo"
         ],
         "y": [
          79474
         ]
        },
        {
         "line": {
          "color": "rgb(255, 20, 0)"
         },
         "marker": {
          "color": "rgb(255, 20, 0)",
          "line": {
           "color": "black",
           "width": 1
          },
          "size": 8
         },
         "mode": "lines+markers",
         "name": "Intel",
         "type": "scatter",
         "x": [
          "Intel"
         ],
         "y": [
          79024
         ]
        },
        {
         "line": {
          "color": "rgb(255, 15, 0)"
         },
         "marker": {
          "color": "rgb(255, 15, 0)",
          "line": {
           "color": "black",
           "width": 1
          },
          "size": 8
         },
         "mode": "lines+markers",
         "name": "Procter & Gamble",
         "type": "scatter",
         "x": [
          "Procter & Gamble"
         ],
         "y": [
          76118
         ]
        },
        {
         "line": {
          "color": "rgb(255, 10, 0)"
         },
         "marker": {
          "color": "rgb(255, 10, 0)",
          "line": {
           "color": "black",
           "width": 1
          },
          "size": 8
         },
         "mode": "lines+markers",
         "name": "General Electric",
         "type": "scatter",
         "x": [
          "General Electric"
         ],
         "y": [
          74196
         ]
        },
        {
         "line": {
          "color": "rgb(255, 5, 0)"
         },
         "marker": {
          "color": "rgb(255, 5, 0)",
          "line": {
           "color": "black",
           "width": 1
          },
          "size": 8
         },
         "mode": "lines+markers",
         "name": "IBM",
         "type": "scatter",
         "x": [
          "IBM"
         ],
         "y": [
          72344
         ]
        },
        {
         "line": {
          "color": "rgb(255, 0, 0)"
         },
         "marker": {
          "color": "rgb(255, 0, 0)",
          "line": {
           "color": "black",
           "width": 1
          },
          "size": 8
         },
         "mode": "lines+markers",
         "name": "MetLife",
         "type": "scatter",
         "x": [
          "MetLife"
         ],
         "y": [
          71080
         ]
        }
       ],
       "layout": {
        "height": 600,
        "plot_bgcolor": "white",
        "template": {
         "data": {
          "bar": [
           {
            "error_x": {
             "color": "#2a3f5f"
            },
            "error_y": {
             "color": "#2a3f5f"
            },
            "marker": {
             "line": {
              "color": "#E5ECF6",
              "width": 0.5
             },
             "pattern": {
              "fillmode": "overlay",
              "size": 10,
              "solidity": 0.2
             }
            },
            "type": "bar"
           }
          ],
          "barpolar": [
           {
            "marker": {
             "line": {
              "color": "#E5ECF6",
              "width": 0.5
             },
             "pattern": {
              "fillmode": "overlay",
              "size": 10,
              "solidity": 0.2
             }
            },
            "type": "barpolar"
           }
          ],
          "carpet": [
           {
            "aaxis": {
             "endlinecolor": "#2a3f5f",
             "gridcolor": "white",
             "linecolor": "white",
             "minorgridcolor": "white",
             "startlinecolor": "#2a3f5f"
            },
            "baxis": {
             "endlinecolor": "#2a3f5f",
             "gridcolor": "white",
             "linecolor": "white",
             "minorgridcolor": "white",
             "startlinecolor": "#2a3f5f"
            },
            "type": "carpet"
           }
          ],
          "choropleth": [
           {
            "colorbar": {
             "outlinewidth": 0,
             "ticks": ""
            },
            "type": "choropleth"
           }
          ],
          "contour": [
           {
            "colorbar": {
             "outlinewidth": 0,
             "ticks": ""
            },
            "colorscale": [
             [
              0,
              "#0d0887"
             ],
             [
              0.1111111111111111,
              "#46039f"
             ],
             [
              0.2222222222222222,
              "#7201a8"
             ],
             [
              0.3333333333333333,
              "#9c179e"
             ],
             [
              0.4444444444444444,
              "#bd3786"
             ],
             [
              0.5555555555555556,
              "#d8576b"
             ],
             [
              0.6666666666666666,
              "#ed7953"
             ],
             [
              0.7777777777777778,
              "#fb9f3a"
             ],
             [
              0.8888888888888888,
              "#fdca26"
             ],
             [
              1,
              "#f0f921"
             ]
            ],
            "type": "contour"
           }
          ],
          "contourcarpet": [
           {
            "colorbar": {
             "outlinewidth": 0,
             "ticks": ""
            },
            "type": "contourcarpet"
           }
          ],
          "heatmap": [
           {
            "colorbar": {
             "outlinewidth": 0,
             "ticks": ""
            },
            "colorscale": [
             [
              0,
              "#0d0887"
             ],
             [
              0.1111111111111111,
              "#46039f"
             ],
             [
              0.2222222222222222,
              "#7201a8"
             ],
             [
              0.3333333333333333,
              "#9c179e"
             ],
             [
              0.4444444444444444,
              "#bd3786"
             ],
             [
              0.5555555555555556,
              "#d8576b"
             ],
             [
              0.6666666666666666,
              "#ed7953"
             ],
             [
              0.7777777777777778,
              "#fb9f3a"
             ],
             [
              0.8888888888888888,
              "#fdca26"
             ],
             [
              1,
              "#f0f921"
             ]
            ],
            "type": "heatmap"
           }
          ],
          "heatmapgl": [
           {
            "colorbar": {
             "outlinewidth": 0,
             "ticks": ""
            },
            "colorscale": [
             [
              0,
              "#0d0887"
             ],
             [
              0.1111111111111111,
              "#46039f"
             ],
             [
              0.2222222222222222,
              "#7201a8"
             ],
             [
              0.3333333333333333,
              "#9c179e"
             ],
             [
              0.4444444444444444,
              "#bd3786"
             ],
             [
              0.5555555555555556,
              "#d8576b"
             ],
             [
              0.6666666666666666,
              "#ed7953"
             ],
             [
              0.7777777777777778,
              "#fb9f3a"
             ],
             [
              0.8888888888888888,
              "#fdca26"
             ],
             [
              1,
              "#f0f921"
             ]
            ],
            "type": "heatmapgl"
           }
          ],
          "histogram": [
           {
            "marker": {
             "pattern": {
              "fillmode": "overlay",
              "size": 10,
              "solidity": 0.2
             }
            },
            "type": "histogram"
           }
          ],
          "histogram2d": [
           {
            "colorbar": {
             "outlinewidth": 0,
             "ticks": ""
            },
            "colorscale": [
             [
              0,
              "#0d0887"
             ],
             [
              0.1111111111111111,
              "#46039f"
             ],
             [
              0.2222222222222222,
              "#7201a8"
             ],
             [
              0.3333333333333333,
              "#9c179e"
             ],
             [
              0.4444444444444444,
              "#bd3786"
             ],
             [
              0.5555555555555556,
              "#d8576b"
             ],
             [
              0.6666666666666666,
              "#ed7953"
             ],
             [
              0.7777777777777778,
              "#fb9f3a"
             ],
             [
              0.8888888888888888,
              "#fdca26"
             ],
             [
              1,
              "#f0f921"
             ]
            ],
            "type": "histogram2d"
           }
          ],
          "histogram2dcontour": [
           {
            "colorbar": {
             "outlinewidth": 0,
             "ticks": ""
            },
            "colorscale": [
             [
              0,
              "#0d0887"
             ],
             [
              0.1111111111111111,
              "#46039f"
             ],
             [
              0.2222222222222222,
              "#7201a8"
             ],
             [
              0.3333333333333333,
              "#9c179e"
             ],
             [
              0.4444444444444444,
              "#bd3786"
             ],
             [
              0.5555555555555556,
              "#d8576b"
             ],
             [
              0.6666666666666666,
              "#ed7953"
             ],
             [
              0.7777777777777778,
              "#fb9f3a"
             ],
             [
              0.8888888888888888,
              "#fdca26"
             ],
             [
              1,
              "#f0f921"
             ]
            ],
            "type": "histogram2dcontour"
           }
          ],
          "mesh3d": [
           {
            "colorbar": {
             "outlinewidth": 0,
             "ticks": ""
            },
            "type": "mesh3d"
           }
          ],
          "parcoords": [
           {
            "line": {
             "colorbar": {
              "outlinewidth": 0,
              "ticks": ""
             }
            },
            "type": "parcoords"
           }
          ],
          "pie": [
           {
            "automargin": true,
            "type": "pie"
           }
          ],
          "scatter": [
           {
            "fillpattern": {
             "fillmode": "overlay",
             "size": 10,
             "solidity": 0.2
            },
            "type": "scatter"
           }
          ],
          "scatter3d": [
           {
            "line": {
             "colorbar": {
              "outlinewidth": 0,
              "ticks": ""
             }
            },
            "marker": {
             "colorbar": {
              "outlinewidth": 0,
              "ticks": ""
             }
            },
            "type": "scatter3d"
           }
          ],
          "scattercarpet": [
           {
            "marker": {
             "colorbar": {
              "outlinewidth": 0,
              "ticks": ""
             }
            },
            "type": "scattercarpet"
           }
          ],
          "scattergeo": [
           {
            "marker": {
             "colorbar": {
              "outlinewidth": 0,
              "ticks": ""
             }
            },
            "type": "scattergeo"
           }
          ],
          "scattergl": [
           {
            "marker": {
             "colorbar": {
              "outlinewidth": 0,
              "ticks": ""
             }
            },
            "type": "scattergl"
           }
          ],
          "scattermapbox": [
           {
            "marker": {
             "colorbar": {
              "outlinewidth": 0,
              "ticks": ""
             }
            },
            "type": "scattermapbox"
           }
          ],
          "scatterpolar": [
           {
            "marker": {
             "colorbar": {
              "outlinewidth": 0,
              "ticks": ""
             }
            },
            "type": "scatterpolar"
           }
          ],
          "scatterpolargl": [
           {
            "marker": {
             "colorbar": {
              "outlinewidth": 0,
              "ticks": ""
             }
            },
            "type": "scatterpolargl"
           }
          ],
          "scatterternary": [
           {
            "marker": {
             "colorbar": {
              "outlinewidth": 0,
              "ticks": ""
             }
            },
            "type": "scatterternary"
           }
          ],
          "surface": [
           {
            "colorbar": {
             "outlinewidth": 0,
             "ticks": ""
            },
            "colorscale": [
             [
              0,
              "#0d0887"
             ],
             [
              0.1111111111111111,
              "#46039f"
             ],
             [
              0.2222222222222222,
              "#7201a8"
             ],
             [
              0.3333333333333333,
              "#9c179e"
             ],
             [
              0.4444444444444444,
              "#bd3786"
             ],
             [
              0.5555555555555556,
              "#d8576b"
             ],
             [
              0.6666666666666666,
              "#ed7953"
             ],
             [
              0.7777777777777778,
              "#fb9f3a"
             ],
             [
              0.8888888888888888,
              "#fdca26"
             ],
             [
              1,
              "#f0f921"
             ]
            ],
            "type": "surface"
           }
          ],
          "table": [
           {
            "cells": {
             "fill": {
              "color": "#EBF0F8"
             },
             "line": {
              "color": "white"
             }
            },
            "header": {
             "fill": {
              "color": "#C8D4E3"
             },
             "line": {
              "color": "white"
             }
            },
            "type": "table"
           }
          ]
         },
         "layout": {
          "annotationdefaults": {
           "arrowcolor": "#2a3f5f",
           "arrowhead": 0,
           "arrowwidth": 1
          },
          "autotypenumbers": "strict",
          "coloraxis": {
           "colorbar": {
            "outlinewidth": 0,
            "ticks": ""
           }
          },
          "colorscale": {
           "diverging": [
            [
             0,
             "#8e0152"
            ],
            [
             0.1,
             "#c51b7d"
            ],
            [
             0.2,
             "#de77ae"
            ],
            [
             0.3,
             "#f1b6da"
            ],
            [
             0.4,
             "#fde0ef"
            ],
            [
             0.5,
             "#f7f7f7"
            ],
            [
             0.6,
             "#e6f5d0"
            ],
            [
             0.7,
             "#b8e186"
            ],
            [
             0.8,
             "#7fbc41"
            ],
            [
             0.9,
             "#4d9221"
            ],
            [
             1,
             "#276419"
            ]
           ],
           "sequential": [
            [
             0,
             "#0d0887"
            ],
            [
             0.1111111111111111,
             "#46039f"
            ],
            [
             0.2222222222222222,
             "#7201a8"
            ],
            [
             0.3333333333333333,
             "#9c179e"
            ],
            [
             0.4444444444444444,
             "#bd3786"
            ],
            [
             0.5555555555555556,
             "#d8576b"
            ],
            [
             0.6666666666666666,
             "#ed7953"
            ],
            [
             0.7777777777777778,
             "#fb9f3a"
            ],
            [
             0.8888888888888888,
             "#fdca26"
            ],
            [
             1,
             "#f0f921"
            ]
           ],
           "sequentialminus": [
            [
             0,
             "#0d0887"
            ],
            [
             0.1111111111111111,
             "#46039f"
            ],
            [
             0.2222222222222222,
             "#7201a8"
            ],
            [
             0.3333333333333333,
             "#9c179e"
            ],
            [
             0.4444444444444444,
             "#bd3786"
            ],
            [
             0.5555555555555556,
             "#d8576b"
            ],
            [
             0.6666666666666666,
             "#ed7953"
            ],
            [
             0.7777777777777778,
             "#fb9f3a"
            ],
            [
             0.8888888888888888,
             "#fdca26"
            ],
            [
             1,
             "#f0f921"
            ]
           ]
          },
          "colorway": [
           "#636efa",
           "#EF553B",
           "#00cc96",
           "#ab63fa",
           "#FFA15A",
           "#19d3f3",
           "#FF6692",
           "#B6E880",
           "#FF97FF",
           "#FECB52"
          ],
          "font": {
           "color": "#2a3f5f"
          },
          "geo": {
           "bgcolor": "white",
           "lakecolor": "white",
           "landcolor": "#E5ECF6",
           "showlakes": true,
           "showland": true,
           "subunitcolor": "white"
          },
          "hoverlabel": {
           "align": "left"
          },
          "hovermode": "closest",
          "mapbox": {
           "style": "light"
          },
          "paper_bgcolor": "white",
          "plot_bgcolor": "#E5ECF6",
          "polar": {
           "angularaxis": {
            "gridcolor": "white",
            "linecolor": "white",
            "ticks": ""
           },
           "bgcolor": "#E5ECF6",
           "radialaxis": {
            "gridcolor": "white",
            "linecolor": "white",
            "ticks": ""
           }
          },
          "scene": {
           "xaxis": {
            "backgroundcolor": "#E5ECF6",
            "gridcolor": "white",
            "gridwidth": 2,
            "linecolor": "white",
            "showbackground": true,
            "ticks": "",
            "zerolinecolor": "white"
           },
           "yaxis": {
            "backgroundcolor": "#E5ECF6",
            "gridcolor": "white",
            "gridwidth": 2,
            "linecolor": "white",
            "showbackground": true,
            "ticks": "",
            "zerolinecolor": "white"
           },
           "zaxis": {
            "backgroundcolor": "#E5ECF6",
            "gridcolor": "white",
            "gridwidth": 2,
            "linecolor": "white",
            "showbackground": true,
            "ticks": "",
            "zerolinecolor": "white"
           }
          },
          "shapedefaults": {
           "line": {
            "color": "#2a3f5f"
           }
          },
          "ternary": {
           "aaxis": {
            "gridcolor": "white",
            "linecolor": "white",
            "ticks": ""
           },
           "baxis": {
            "gridcolor": "white",
            "linecolor": "white",
            "ticks": ""
           },
           "bgcolor": "#E5ECF6",
           "caxis": {
            "gridcolor": "white",
            "linecolor": "white",
            "ticks": ""
           }
          },
          "title": {
           "x": 0.05
          },
          "xaxis": {
           "automargin": true,
           "gridcolor": "white",
           "linecolor": "white",
           "ticks": "",
           "title": {
            "standoff": 15
           },
           "zerolinecolor": "white",
           "zerolinewidth": 2
          },
          "yaxis": {
           "automargin": true,
           "gridcolor": "white",
           "linecolor": "white",
           "ticks": "",
           "title": {
            "standoff": 15
           },
           "zerolinecolor": "white",
           "zerolinewidth": 2
          }
         }
        },
        "title": {
         "text": "Top 50 Revenue Comparison"
        },
        "width": 1000,
        "xaxis": {
         "gridcolor": "lightgray",
         "gridwidth": 0.25,
         "showgrid": true,
         "tickfont": {
          "size": 10
         },
         "title": {
          "text": "Name"
         }
        },
        "yaxis": {
         "gridcolor": "lightgray",
         "gridwidth": 0.25,
         "showgrid": true,
         "tickfont": {
          "size": 10
         },
         "title": {
          "text": "Revenue"
         }
        }
       }
      },
      "text/html": [
       "<div>                            <div id=\"f900700a-7e33-481e-a84c-d61e99784235\" class=\"plotly-graph-div\" style=\"height:600px; width:1000px;\"></div>            <script type=\"text/javascript\">                require([\"plotly\"], function(Plotly) {                    window.PLOTLYENV=window.PLOTLYENV || {};                                    if (document.getElementById(\"f900700a-7e33-481e-a84c-d61e99784235\")) {                    Plotly.newPlot(                        \"f900700a-7e33-481e-a84c-d61e99784235\",                        [{\"line\":{\"color\":\"rgb(255, 255, 0)\"},\"marker\":{\"color\":\"rgb(255, 255, 0)\",\"line\":{\"color\":\"black\",\"width\":1},\"size\":16},\"mode\":\"lines+markers\",\"name\":\"Walmart\",\"x\":[\"Walmart\"],\"y\":[572754],\"type\":\"scatter\"},{\"line\":{\"color\":\"rgb(255, 249, 0)\"},\"marker\":{\"color\":\"rgb(255, 249, 0)\",\"line\":{\"color\":\"black\",\"width\":1},\"size\":8},\"mode\":\"lines+markers\",\"name\":\"Amazon\",\"x\":[\"Amazon\"],\"y\":[469822],\"type\":\"scatter\"},{\"line\":{\"color\":\"rgb(255, 244, 0)\"},\"marker\":{\"color\":\"rgb(255, 244, 0)\",\"line\":{\"color\":\"black\",\"width\":1},\"size\":8},\"mode\":\"lines+markers\",\"name\":\"Apple\",\"x\":[\"Apple\"],\"y\":[365817],\"type\":\"scatter\"},{\"line\":{\"color\":\"rgb(255, 239, 0)\"},\"marker\":{\"color\":\"rgb(255, 239, 0)\",\"line\":{\"color\":\"black\",\"width\":1},\"size\":8},\"mode\":\"lines+markers\",\"name\":\"CVS Health\",\"x\":[\"CVS Health\"],\"y\":[292111],\"type\":\"scatter\"},{\"line\":{\"color\":\"rgb(255, 234, 0)\"},\"marker\":{\"color\":\"rgb(255, 234, 0)\",\"line\":{\"color\":\"black\",\"width\":1},\"size\":8},\"mode\":\"lines+markers\",\"name\":\"UnitedHealth Group\",\"x\":[\"UnitedHealth Group\"],\"y\":[287597],\"type\":\"scatter\"},{\"line\":{\"color\":\"rgb(255, 228, 0)\"},\"marker\":{\"color\":\"rgb(255, 228, 0)\",\"line\":{\"color\":\"black\",\"width\":1},\"size\":8},\"mode\":\"lines+markers\",\"name\":\"Exxon Mobil\",\"x\":[\"Exxon Mobil\"],\"y\":[285640],\"type\":\"scatter\"},{\"line\":{\"color\":\"rgb(255, 223, 0)\"},\"marker\":{\"color\":\"rgb(255, 223, 0)\",\"line\":{\"color\":\"black\",\"width\":1},\"size\":8},\"mode\":\"lines+markers\",\"name\":\"Berkshire Hathaway\",\"x\":[\"Berkshire Hathaway\"],\"y\":[276094],\"type\":\"scatter\"},{\"line\":{\"color\":\"rgb(255, 218, 0)\"},\"marker\":{\"color\":\"rgb(255, 218, 0)\",\"line\":{\"color\":\"black\",\"width\":1},\"size\":8},\"mode\":\"lines+markers\",\"name\":\"Alphabet\",\"x\":[\"Alphabet\"],\"y\":[257637],\"type\":\"scatter\"},{\"line\":{\"color\":\"rgb(255, 213, 0)\"},\"marker\":{\"color\":\"rgb(255, 213, 0)\",\"line\":{\"color\":\"black\",\"width\":1},\"size\":8},\"mode\":\"lines+markers\",\"name\":\"McKesson Corporation\",\"x\":[\"McKesson Corporation\"],\"y\":[238228],\"type\":\"scatter\"},{\"line\":{\"color\":\"rgb(255, 208, 0)\"},\"marker\":{\"color\":\"rgb(255, 208, 0)\",\"line\":{\"color\":\"black\",\"width\":1},\"size\":8},\"mode\":\"lines+markers\",\"name\":\"AmerisourceBergen\",\"x\":[\"AmerisourceBergen\"],\"y\":[213989],\"type\":\"scatter\"},{\"line\":{\"color\":\"rgb(255, 202, 0)\"},\"marker\":{\"color\":\"rgb(255, 202, 0)\",\"line\":{\"color\":\"black\",\"width\":1},\"size\":8},\"mode\":\"lines+markers\",\"name\":\"Microsoft\",\"x\":[\"Microsoft\"],\"y\":[198087],\"type\":\"scatter\"},{\"line\":{\"color\":\"rgb(255, 197, 0)\"},\"marker\":{\"color\":\"rgb(255, 197, 0)\",\"line\":{\"color\":\"black\",\"width\":1},\"size\":8},\"mode\":\"lines+markers\",\"name\":\"Costco\",\"x\":[\"Costco\"],\"y\":[195929],\"type\":\"scatter\"},{\"line\":{\"color\":\"rgb(255, 192, 0)\"},\"marker\":{\"color\":\"rgb(255, 192, 0)\",\"line\":{\"color\":\"black\",\"width\":1},\"size\":8},\"mode\":\"lines+markers\",\"name\":\"Cigna\",\"x\":[\"Cigna\"],\"y\":[174078],\"type\":\"scatter\"},{\"line\":{\"color\":\"rgb(255, 187, 0)\"},\"marker\":{\"color\":\"rgb(255, 187, 0)\",\"line\":{\"color\":\"black\",\"width\":1},\"size\":8},\"mode\":\"lines+markers\",\"name\":\"AT&T\",\"x\":[\"AT&T\"],\"y\":[168864],\"type\":\"scatter\"},{\"line\":{\"color\":\"rgb(255, 182, 0)\"},\"marker\":{\"color\":\"rgb(255, 182, 0)\",\"line\":{\"color\":\"black\",\"width\":1},\"size\":8},\"mode\":\"lines+markers\",\"name\":\"Cardinal Health\",\"x\":[\"Cardinal Health\"],\"y\":[162467],\"type\":\"scatter\"},{\"line\":{\"color\":\"rgb(255, 176, 0)\"},\"marker\":{\"color\":\"rgb(255, 176, 0)\",\"line\":{\"color\":\"black\",\"width\":1},\"size\":8},\"mode\":\"lines+markers\",\"name\":\"Chevron Corporation\",\"x\":[\"Chevron Corporation\"],\"y\":[162465],\"type\":\"scatter\"},{\"line\":{\"color\":\"rgb(255, 171, 0)\"},\"marker\":{\"color\":\"rgb(255, 171, 0)\",\"line\":{\"color\":\"black\",\"width\":1},\"size\":8},\"mode\":\"lines+markers\",\"name\":\"The Home Depot\",\"x\":[\"The Home Depot\"],\"y\":[151157],\"type\":\"scatter\"},{\"line\":{\"color\":\"rgb(255, 166, 0)\"},\"marker\":{\"color\":\"rgb(255, 166, 0)\",\"line\":{\"color\":\"black\",\"width\":1},\"size\":8},\"mode\":\"lines+markers\",\"name\":\"Walgreens Boots Alliance\",\"x\":[\"Walgreens Boots Alliance\"],\"y\":[148579],\"type\":\"scatter\"},{\"line\":{\"color\":\"rgb(255, 161, 0)\"},\"marker\":{\"color\":\"rgb(255, 161, 0)\",\"line\":{\"color\":\"black\",\"width\":1},\"size\":8},\"mode\":\"lines+markers\",\"name\":\"Marathon Petroleum\",\"x\":[\"Marathon Petroleum\"],\"y\":[141032],\"type\":\"scatter\"},{\"line\":{\"color\":\"rgb(255, 156, 0)\"},\"marker\":{\"color\":\"rgb(255, 156, 0)\",\"line\":{\"color\":\"black\",\"width\":1},\"size\":8},\"mode\":\"lines+markers\",\"name\":\"Elevance Health\",\"x\":[\"Elevance Health\"],\"y\":[138639],\"type\":\"scatter\"},{\"line\":{\"color\":\"rgb(255, 150, 0)\"},\"marker\":{\"color\":\"rgb(255, 150, 0)\",\"line\":{\"color\":\"black\",\"width\":1},\"size\":8},\"mode\":\"lines+markers\",\"name\":\"Kroger\",\"x\":[\"Kroger\"],\"y\":[137888],\"type\":\"scatter\"},{\"line\":{\"color\":\"rgb(255, 145, 0)\"},\"marker\":{\"color\":\"rgb(255, 145, 0)\",\"line\":{\"color\":\"black\",\"width\":1},\"size\":8},\"mode\":\"lines+markers\",\"name\":\"Ford Motor Company\",\"x\":[\"Ford Motor Company\"],\"y\":[136341],\"type\":\"scatter\"},{\"line\":{\"color\":\"rgb(255, 140, 0)\"},\"marker\":{\"color\":\"rgb(255, 140, 0)\",\"line\":{\"color\":\"black\",\"width\":1},\"size\":8},\"mode\":\"lines+markers\",\"name\":\"Verizon Communications\",\"x\":[\"Verizon Communications\"],\"y\":[133613],\"type\":\"scatter\"},{\"line\":{\"color\":\"rgb(255, 135, 0)\"},\"marker\":{\"color\":\"rgb(255, 135, 0)\",\"line\":{\"color\":\"black\",\"width\":1},\"size\":8},\"mode\":\"lines+markers\",\"name\":\"JPMorgan Chase\",\"x\":[\"JPMorgan Chase\"],\"y\":[127202],\"type\":\"scatter\"},{\"line\":{\"color\":\"rgb(255, 130, 0)\"},\"marker\":{\"color\":\"rgb(255, 130, 0)\",\"line\":{\"color\":\"black\",\"width\":1},\"size\":8},\"mode\":\"lines+markers\",\"name\":\"General Motors\",\"x\":[\"General Motors\"],\"y\":[127004],\"type\":\"scatter\"},{\"line\":{\"color\":\"rgb(255, 124, 0)\"},\"marker\":{\"color\":\"rgb(255, 124, 0)\",\"line\":{\"color\":\"black\",\"width\":1},\"size\":8},\"mode\":\"lines+markers\",\"name\":\"Centene\",\"x\":[\"Centene\"],\"y\":[125982],\"type\":\"scatter\"},{\"line\":{\"color\":\"rgb(255, 119, 0)\"},\"marker\":{\"color\":\"rgb(255, 119, 0)\",\"line\":{\"color\":\"black\",\"width\":1},\"size\":8},\"mode\":\"lines+markers\",\"name\":\"Meta Platforms\",\"x\":[\"Meta Platforms\"],\"y\":[117385],\"type\":\"scatter\"},{\"line\":{\"color\":\"rgb(255, 114, 0)\"},\"marker\":{\"color\":\"rgb(255, 114, 0)\",\"line\":{\"color\":\"black\",\"width\":1},\"size\":8},\"mode\":\"lines+markers\",\"name\":\"Comcast\",\"x\":[\"Comcast\"],\"y\":[116385],\"type\":\"scatter\"},{\"line\":{\"color\":\"rgb(255, 109, 0)\"},\"marker\":{\"color\":\"rgb(255, 109, 0)\",\"line\":{\"color\":\"black\",\"width\":1},\"size\":8},\"mode\":\"lines+markers\",\"name\":\"Phillips 66\",\"x\":[\"Phillips 66\"],\"y\":[114852],\"type\":\"scatter\"},{\"line\":{\"color\":\"rgb(255, 104, 0)\"},\"marker\":{\"color\":\"rgb(255, 104, 0)\",\"line\":{\"color\":\"black\",\"width\":1},\"size\":8},\"mode\":\"lines+markers\",\"name\":\"Valero Energy\",\"x\":[\"Valero Energy\"],\"y\":[108332],\"type\":\"scatter\"},{\"line\":{\"color\":\"rgb(255, 98, 0)\"},\"marker\":{\"color\":\"rgb(255, 98, 0)\",\"line\":{\"color\":\"black\",\"width\":1},\"size\":8},\"mode\":\"lines+markers\",\"name\":\"Dell Technologies\",\"x\":[\"Dell Technologies\"],\"y\":[106995],\"type\":\"scatter\"},{\"line\":{\"color\":\"rgb(255, 93, 0)\"},\"marker\":{\"color\":\"rgb(255, 93, 0)\",\"line\":{\"color\":\"black\",\"width\":1},\"size\":8},\"mode\":\"lines+markers\",\"name\":\"Target Corporation\",\"x\":[\"Target Corporation\"],\"y\":[106005],\"type\":\"scatter\"},{\"line\":{\"color\":\"rgb(255, 88, 0)\"},\"marker\":{\"color\":\"rgb(255, 88, 0)\",\"line\":{\"color\":\"black\",\"width\":1},\"size\":8},\"mode\":\"lines+markers\",\"name\":\"Fannie Mae\",\"x\":[\"Fannie Mae\"],\"y\":[101543],\"type\":\"scatter\"},{\"line\":{\"color\":\"rgb(255, 83, 0)\"},\"marker\":{\"color\":\"rgb(255, 83, 0)\",\"line\":{\"color\":\"black\",\"width\":1},\"size\":8},\"mode\":\"lines+markers\",\"name\":\"United Parcel Service\",\"x\":[\"United Parcel Service\"],\"y\":[97287],\"type\":\"scatter\"},{\"line\":{\"color\":\"rgb(255, 78, 0)\"},\"marker\":{\"color\":\"rgb(255, 78, 0)\",\"line\":{\"color\":\"black\",\"width\":1},\"size\":8},\"mode\":\"lines+markers\",\"name\":\"Lowe's\",\"x\":[\"Lowe's\"],\"y\":[96250],\"type\":\"scatter\"},{\"line\":{\"color\":\"rgb(255, 72, 0)\"},\"marker\":{\"color\":\"rgb(255, 72, 0)\",\"line\":{\"color\":\"black\",\"width\":1},\"size\":8},\"mode\":\"lines+markers\",\"name\":\"Bank of America\",\"x\":[\"Bank of America\"],\"y\":[93851],\"type\":\"scatter\"},{\"line\":{\"color\":\"rgb(255, 67, 0)\"},\"marker\":{\"color\":\"rgb(255, 67, 0)\",\"line\":{\"color\":\"black\",\"width\":1},\"size\":8},\"mode\":\"lines+markers\",\"name\":\"Johnson & Johnson\",\"x\":[\"Johnson & Johnson\"],\"y\":[93775],\"type\":\"scatter\"},{\"line\":{\"color\":\"rgb(255, 62, 0)\"},\"marker\":{\"color\":\"rgb(255, 62, 0)\",\"line\":{\"color\":\"black\",\"width\":1},\"size\":8},\"mode\":\"lines+markers\",\"name\":\"Archer Daniels Midland\",\"x\":[\"Archer Daniels Midland\"],\"y\":[85959],\"type\":\"scatter\"},{\"line\":{\"color\":\"rgb(255, 57, 0)\"},\"marker\":{\"color\":\"rgb(255, 57, 0)\",\"line\":{\"color\":\"black\",\"width\":1},\"size\":8},\"mode\":\"lines+markers\",\"name\":\"FedEx\",\"x\":[\"FedEx\"],\"y\":[83959],\"type\":\"scatter\"},{\"line\":{\"color\":\"rgb(255, 52, 0)\"},\"marker\":{\"color\":\"rgb(255, 52, 0)\",\"line\":{\"color\":\"black\",\"width\":1},\"size\":8},\"mode\":\"lines+markers\",\"name\":\"Humana\",\"x\":[\"Humana\"],\"y\":[83064],\"type\":\"scatter\"},{\"line\":{\"color\":\"rgb(255, 46, 0)\"},\"marker\":{\"color\":\"rgb(255, 46, 0)\",\"line\":{\"color\":\"black\",\"width\":1},\"size\":8},\"mode\":\"lines+markers\",\"name\":\"Wells Fargo\",\"x\":[\"Wells Fargo\"],\"y\":[82407],\"type\":\"scatter\"},{\"line\":{\"color\":\"rgb(255, 41, 0)\"},\"marker\":{\"color\":\"rgb(255, 41, 0)\",\"line\":{\"color\":\"black\",\"width\":1},\"size\":8},\"mode\":\"lines+markers\",\"name\":\"State Farm\",\"x\":[\"State Farm\"],\"y\":[82407],\"type\":\"scatter\"},{\"line\":{\"color\":\"rgb(255, 36, 0)\"},\"marker\":{\"color\":\"rgb(255, 36, 0)\",\"line\":{\"color\":\"black\",\"width\":1},\"size\":8},\"mode\":\"lines+markers\",\"name\":\"Pfizer\",\"x\":[\"Pfizer\"],\"y\":[81288],\"type\":\"scatter\"},{\"line\":{\"color\":\"rgb(255, 31, 0)\"},\"marker\":{\"color\":\"rgb(255, 31, 0)\",\"line\":{\"color\":\"black\",\"width\":1},\"size\":8},\"mode\":\"lines+markers\",\"name\":\"Citigroup\",\"x\":[\"Citigroup\"],\"y\":[79865],\"type\":\"scatter\"},{\"line\":{\"color\":\"rgb(255, 26, 0)\"},\"marker\":{\"color\":\"rgb(255, 26, 0)\",\"line\":{\"color\":\"black\",\"width\":1},\"size\":8},\"mode\":\"lines+markers\",\"name\":\"PepsiCo\",\"x\":[\"PepsiCo\"],\"y\":[79474],\"type\":\"scatter\"},{\"line\":{\"color\":\"rgb(255, 20, 0)\"},\"marker\":{\"color\":\"rgb(255, 20, 0)\",\"line\":{\"color\":\"black\",\"width\":1},\"size\":8},\"mode\":\"lines+markers\",\"name\":\"Intel\",\"x\":[\"Intel\"],\"y\":[79024],\"type\":\"scatter\"},{\"line\":{\"color\":\"rgb(255, 15, 0)\"},\"marker\":{\"color\":\"rgb(255, 15, 0)\",\"line\":{\"color\":\"black\",\"width\":1},\"size\":8},\"mode\":\"lines+markers\",\"name\":\"Procter & Gamble\",\"x\":[\"Procter & Gamble\"],\"y\":[76118],\"type\":\"scatter\"},{\"line\":{\"color\":\"rgb(255, 10, 0)\"},\"marker\":{\"color\":\"rgb(255, 10, 0)\",\"line\":{\"color\":\"black\",\"width\":1},\"size\":8},\"mode\":\"lines+markers\",\"name\":\"General Electric\",\"x\":[\"General Electric\"],\"y\":[74196],\"type\":\"scatter\"},{\"line\":{\"color\":\"rgb(255, 5, 0)\"},\"marker\":{\"color\":\"rgb(255, 5, 0)\",\"line\":{\"color\":\"black\",\"width\":1},\"size\":8},\"mode\":\"lines+markers\",\"name\":\"IBM\",\"x\":[\"IBM\"],\"y\":[72344],\"type\":\"scatter\"},{\"line\":{\"color\":\"rgb(255, 0, 0)\"},\"marker\":{\"color\":\"rgb(255, 0, 0)\",\"line\":{\"color\":\"black\",\"width\":1},\"size\":8},\"mode\":\"lines+markers\",\"name\":\"MetLife\",\"x\":[\"MetLife\"],\"y\":[71080],\"type\":\"scatter\"}],                        {\"template\":{\"data\":{\"histogram2dcontour\":[{\"type\":\"histogram2dcontour\",\"colorbar\":{\"outlinewidth\":0,\"ticks\":\"\"},\"colorscale\":[[0.0,\"#0d0887\"],[0.1111111111111111,\"#46039f\"],[0.2222222222222222,\"#7201a8\"],[0.3333333333333333,\"#9c179e\"],[0.4444444444444444,\"#bd3786\"],[0.5555555555555556,\"#d8576b\"],[0.6666666666666666,\"#ed7953\"],[0.7777777777777778,\"#fb9f3a\"],[0.8888888888888888,\"#fdca26\"],[1.0,\"#f0f921\"]]}],\"choropleth\":[{\"type\":\"choropleth\",\"colorbar\":{\"outlinewidth\":0,\"ticks\":\"\"}}],\"histogram2d\":[{\"type\":\"histogram2d\",\"colorbar\":{\"outlinewidth\":0,\"ticks\":\"\"},\"colorscale\":[[0.0,\"#0d0887\"],[0.1111111111111111,\"#46039f\"],[0.2222222222222222,\"#7201a8\"],[0.3333333333333333,\"#9c179e\"],[0.4444444444444444,\"#bd3786\"],[0.5555555555555556,\"#d8576b\"],[0.6666666666666666,\"#ed7953\"],[0.7777777777777778,\"#fb9f3a\"],[0.8888888888888888,\"#fdca26\"],[1.0,\"#f0f921\"]]}],\"heatmap\":[{\"type\":\"heatmap\",\"colorbar\":{\"outlinewidth\":0,\"ticks\":\"\"},\"colorscale\":[[0.0,\"#0d0887\"],[0.1111111111111111,\"#46039f\"],[0.2222222222222222,\"#7201a8\"],[0.3333333333333333,\"#9c179e\"],[0.4444444444444444,\"#bd3786\"],[0.5555555555555556,\"#d8576b\"],[0.6666666666666666,\"#ed7953\"],[0.7777777777777778,\"#fb9f3a\"],[0.8888888888888888,\"#fdca26\"],[1.0,\"#f0f921\"]]}],\"heatmapgl\":[{\"type\":\"heatmapgl\",\"colorbar\":{\"outlinewidth\":0,\"ticks\":\"\"},\"colorscale\":[[0.0,\"#0d0887\"],[0.1111111111111111,\"#46039f\"],[0.2222222222222222,\"#7201a8\"],[0.3333333333333333,\"#9c179e\"],[0.4444444444444444,\"#bd3786\"],[0.5555555555555556,\"#d8576b\"],[0.6666666666666666,\"#ed7953\"],[0.7777777777777778,\"#fb9f3a\"],[0.8888888888888888,\"#fdca26\"],[1.0,\"#f0f921\"]]}],\"contourcarpet\":[{\"type\":\"contourcarpet\",\"colorbar\":{\"outlinewidth\":0,\"ticks\":\"\"}}],\"contour\":[{\"type\":\"contour\",\"colorbar\":{\"outlinewidth\":0,\"ticks\":\"\"},\"colorscale\":[[0.0,\"#0d0887\"],[0.1111111111111111,\"#46039f\"],[0.2222222222222222,\"#7201a8\"],[0.3333333333333333,\"#9c179e\"],[0.4444444444444444,\"#bd3786\"],[0.5555555555555556,\"#d8576b\"],[0.6666666666666666,\"#ed7953\"],[0.7777777777777778,\"#fb9f3a\"],[0.8888888888888888,\"#fdca26\"],[1.0,\"#f0f921\"]]}],\"surface\":[{\"type\":\"surface\",\"colorbar\":{\"outlinewidth\":0,\"ticks\":\"\"},\"colorscale\":[[0.0,\"#0d0887\"],[0.1111111111111111,\"#46039f\"],[0.2222222222222222,\"#7201a8\"],[0.3333333333333333,\"#9c179e\"],[0.4444444444444444,\"#bd3786\"],[0.5555555555555556,\"#d8576b\"],[0.6666666666666666,\"#ed7953\"],[0.7777777777777778,\"#fb9f3a\"],[0.8888888888888888,\"#fdca26\"],[1.0,\"#f0f921\"]]}],\"mesh3d\":[{\"type\":\"mesh3d\",\"colorbar\":{\"outlinewidth\":0,\"ticks\":\"\"}}],\"scatter\":[{\"fillpattern\":{\"fillmode\":\"overlay\",\"size\":10,\"solidity\":0.2},\"type\":\"scatter\"}],\"parcoords\":[{\"type\":\"parcoords\",\"line\":{\"colorbar\":{\"outlinewidth\":0,\"ticks\":\"\"}}}],\"scatterpolargl\":[{\"type\":\"scatterpolargl\",\"marker\":{\"colorbar\":{\"outlinewidth\":0,\"ticks\":\"\"}}}],\"bar\":[{\"error_x\":{\"color\":\"#2a3f5f\"},\"error_y\":{\"color\":\"#2a3f5f\"},\"marker\":{\"line\":{\"color\":\"#E5ECF6\",\"width\":0.5},\"pattern\":{\"fillmode\":\"overlay\",\"size\":10,\"solidity\":0.2}},\"type\":\"bar\"}],\"scattergeo\":[{\"type\":\"scattergeo\",\"marker\":{\"colorbar\":{\"outlinewidth\":0,\"ticks\":\"\"}}}],\"scatterpolar\":[{\"type\":\"scatterpolar\",\"marker\":{\"colorbar\":{\"outlinewidth\":0,\"ticks\":\"\"}}}],\"histogram\":[{\"marker\":{\"pattern\":{\"fillmode\":\"overlay\",\"size\":10,\"solidity\":0.2}},\"type\":\"histogram\"}],\"scattergl\":[{\"type\":\"scattergl\",\"marker\":{\"colorbar\":{\"outlinewidth\":0,\"ticks\":\"\"}}}],\"scatter3d\":[{\"type\":\"scatter3d\",\"line\":{\"colorbar\":{\"outlinewidth\":0,\"ticks\":\"\"}},\"marker\":{\"colorbar\":{\"outlinewidth\":0,\"ticks\":\"\"}}}],\"scattermapbox\":[{\"type\":\"scattermapbox\",\"marker\":{\"colorbar\":{\"outlinewidth\":0,\"ticks\":\"\"}}}],\"scatterternary\":[{\"type\":\"scatterternary\",\"marker\":{\"colorbar\":{\"outlinewidth\":0,\"ticks\":\"\"}}}],\"scattercarpet\":[{\"type\":\"scattercarpet\",\"marker\":{\"colorbar\":{\"outlinewidth\":0,\"ticks\":\"\"}}}],\"carpet\":[{\"aaxis\":{\"endlinecolor\":\"#2a3f5f\",\"gridcolor\":\"white\",\"linecolor\":\"white\",\"minorgridcolor\":\"white\",\"startlinecolor\":\"#2a3f5f\"},\"baxis\":{\"endlinecolor\":\"#2a3f5f\",\"gridcolor\":\"white\",\"linecolor\":\"white\",\"minorgridcolor\":\"white\",\"startlinecolor\":\"#2a3f5f\"},\"type\":\"carpet\"}],\"table\":[{\"cells\":{\"fill\":{\"color\":\"#EBF0F8\"},\"line\":{\"color\":\"white\"}},\"header\":{\"fill\":{\"color\":\"#C8D4E3\"},\"line\":{\"color\":\"white\"}},\"type\":\"table\"}],\"barpolar\":[{\"marker\":{\"line\":{\"color\":\"#E5ECF6\",\"width\":0.5},\"pattern\":{\"fillmode\":\"overlay\",\"size\":10,\"solidity\":0.2}},\"type\":\"barpolar\"}],\"pie\":[{\"automargin\":true,\"type\":\"pie\"}]},\"layout\":{\"autotypenumbers\":\"strict\",\"colorway\":[\"#636efa\",\"#EF553B\",\"#00cc96\",\"#ab63fa\",\"#FFA15A\",\"#19d3f3\",\"#FF6692\",\"#B6E880\",\"#FF97FF\",\"#FECB52\"],\"font\":{\"color\":\"#2a3f5f\"},\"hovermode\":\"closest\",\"hoverlabel\":{\"align\":\"left\"},\"paper_bgcolor\":\"white\",\"plot_bgcolor\":\"#E5ECF6\",\"polar\":{\"bgcolor\":\"#E5ECF6\",\"angularaxis\":{\"gridcolor\":\"white\",\"linecolor\":\"white\",\"ticks\":\"\"},\"radialaxis\":{\"gridcolor\":\"white\",\"linecolor\":\"white\",\"ticks\":\"\"}},\"ternary\":{\"bgcolor\":\"#E5ECF6\",\"aaxis\":{\"gridcolor\":\"white\",\"linecolor\":\"white\",\"ticks\":\"\"},\"baxis\":{\"gridcolor\":\"white\",\"linecolor\":\"white\",\"ticks\":\"\"},\"caxis\":{\"gridcolor\":\"white\",\"linecolor\":\"white\",\"ticks\":\"\"}},\"coloraxis\":{\"colorbar\":{\"outlinewidth\":0,\"ticks\":\"\"}},\"colorscale\":{\"sequential\":[[0.0,\"#0d0887\"],[0.1111111111111111,\"#46039f\"],[0.2222222222222222,\"#7201a8\"],[0.3333333333333333,\"#9c179e\"],[0.4444444444444444,\"#bd3786\"],[0.5555555555555556,\"#d8576b\"],[0.6666666666666666,\"#ed7953\"],[0.7777777777777778,\"#fb9f3a\"],[0.8888888888888888,\"#fdca26\"],[1.0,\"#f0f921\"]],\"sequentialminus\":[[0.0,\"#0d0887\"],[0.1111111111111111,\"#46039f\"],[0.2222222222222222,\"#7201a8\"],[0.3333333333333333,\"#9c179e\"],[0.4444444444444444,\"#bd3786\"],[0.5555555555555556,\"#d8576b\"],[0.6666666666666666,\"#ed7953\"],[0.7777777777777778,\"#fb9f3a\"],[0.8888888888888888,\"#fdca26\"],[1.0,\"#f0f921\"]],\"diverging\":[[0,\"#8e0152\"],[0.1,\"#c51b7d\"],[0.2,\"#de77ae\"],[0.3,\"#f1b6da\"],[0.4,\"#fde0ef\"],[0.5,\"#f7f7f7\"],[0.6,\"#e6f5d0\"],[0.7,\"#b8e186\"],[0.8,\"#7fbc41\"],[0.9,\"#4d9221\"],[1,\"#276419\"]]},\"xaxis\":{\"gridcolor\":\"white\",\"linecolor\":\"white\",\"ticks\":\"\",\"title\":{\"standoff\":15},\"zerolinecolor\":\"white\",\"automargin\":true,\"zerolinewidth\":2},\"yaxis\":{\"gridcolor\":\"white\",\"linecolor\":\"white\",\"ticks\":\"\",\"title\":{\"standoff\":15},\"zerolinecolor\":\"white\",\"automargin\":true,\"zerolinewidth\":2},\"scene\":{\"xaxis\":{\"backgroundcolor\":\"#E5ECF6\",\"gridcolor\":\"white\",\"linecolor\":\"white\",\"showbackground\":true,\"ticks\":\"\",\"zerolinecolor\":\"white\",\"gridwidth\":2},\"yaxis\":{\"backgroundcolor\":\"#E5ECF6\",\"gridcolor\":\"white\",\"linecolor\":\"white\",\"showbackground\":true,\"ticks\":\"\",\"zerolinecolor\":\"white\",\"gridwidth\":2},\"zaxis\":{\"backgroundcolor\":\"#E5ECF6\",\"gridcolor\":\"white\",\"linecolor\":\"white\",\"showbackground\":true,\"ticks\":\"\",\"zerolinecolor\":\"white\",\"gridwidth\":2}},\"shapedefaults\":{\"line\":{\"color\":\"#2a3f5f\"}},\"annotationdefaults\":{\"arrowcolor\":\"#2a3f5f\",\"arrowhead\":0,\"arrowwidth\":1},\"geo\":{\"bgcolor\":\"white\",\"landcolor\":\"#E5ECF6\",\"subunitcolor\":\"white\",\"showland\":true,\"showlakes\":true,\"lakecolor\":\"white\"},\"title\":{\"x\":0.05},\"mapbox\":{\"style\":\"light\"}}},\"xaxis\":{\"tickfont\":{\"size\":10},\"title\":{\"text\":\"Name\"},\"showgrid\":true,\"gridcolor\":\"lightgray\",\"gridwidth\":0.25},\"yaxis\":{\"tickfont\":{\"size\":10},\"title\":{\"text\":\"Revenue\"},\"showgrid\":true,\"gridcolor\":\"lightgray\",\"gridwidth\":0.25},\"title\":{\"text\":\"Top 50 Revenue Comparison\"},\"plot_bgcolor\":\"white\",\"width\":1000,\"height\":600},                        {\"responsive\": true}                    ).then(function(){\n",
       "                            \n",
       "var gd = document.getElementById('f900700a-7e33-481e-a84c-d61e99784235');\n",
       "var x = new MutationObserver(function (mutations, observer) {{\n",
       "        var display = window.getComputedStyle(gd).display;\n",
       "        if (!display || display === 'none') {{\n",
       "            console.log([gd, 'removed!']);\n",
       "            Plotly.purge(gd);\n",
       "            observer.disconnect();\n",
       "        }}\n",
       "}});\n",
       "\n",
       "// Listen for the removal of the full notebook cells\n",
       "var notebookContainer = gd.closest('#notebook-container');\n",
       "if (notebookContainer) {{\n",
       "    x.observe(notebookContainer, {childList: true});\n",
       "}}\n",
       "\n",
       "// Listen for the clearing of the current output cell\n",
       "var outputEl = gd.closest('.output');\n",
       "if (outputEl) {{\n",
       "    x.observe(outputEl, {childList: true});\n",
       "}}\n",
       "\n",
       "                        })                };                });            </script>        </div>"
      ]
     },
     "metadata": {},
     "output_type": "display_data"
    }
   ],
   "source": [
    "\n",
    "# Get the top 50 categories by revenue\n",
    "top_50_categories = df.nlargest(50, 'Revenue')\n",
    "\n",
    "# Create a line plot using Plotly\n",
    "fig = go.Figure()\n",
    "\n",
    "# Gold-to-white color gradient\n",
    "def get_color(idx, total):\n",
    "    r = 255 - idx * (255 / (total - 1))\n",
    "    return f'rgb(255, {int(r)}, 0)'\n",
    "\n",
    "# Add traces for each category\n",
    "for idx, row in top_50_categories.iterrows():\n",
    "    marker_size = 16 if row['Revenue'] == top_50_categories['Revenue'].max() else 8  # Increase marker size for the highest value\n",
    "    fig.add_trace(go.Scatter(\n",
    "        x=[row['Name']],\n",
    "        y=[row['Revenue']],\n",
    "        mode='lines+markers',   # Use lines and markers to create a line plot\n",
    "        line=dict(color=get_color(idx, len(top_50_categories))),  # Apply gold-to-white color gradient to the line\n",
    "        marker=dict(\n",
    "            color=get_color(idx, len(top_50_categories)),  # Apply gold-to-white color gradient to the marker\n",
    "            size=marker_size,\n",
    "            line=dict(width=1, color='black'),\n",
    "        ),\n",
    "        name=row['Name']\n",
    "    ))\n",
    "\n",
    "# Set layout properties for the plot\n",
    "fig.update_layout(\n",
    "    title='Top 50 Revenue Comparison',\n",
    "    xaxis=dict(\n",
    "        title='Name',\n",
    "        showgrid=True,\n",
    "        gridcolor='lightgray',  # Add grid lines\n",
    "        gridwidth=0.25,        # Set grid line width\n",
    "        tickfont=dict(size=10)  # Adjust x-axis tick font size\n",
    "    ),\n",
    "    yaxis=dict(\n",
    "        title='Revenue',\n",
    "        showgrid=True,\n",
    "        gridcolor='lightgray',  # Add grid lines\n",
    "        gridwidth=0.25,        # Set grid line width\n",
    "        tickfont=dict(size=10)  # Adjust y-axis tick font size\n",
    "    ),\n",
    "    plot_bgcolor='white',  # Set plot background color\n",
    "    width=1000,             # Increase the plot width\n",
    "    height=600              # Increase the plot height\n",
    ")\n",
    "\n",
    "fig.show()"
   ]
  },
  {
   "cell_type": "code",
   "execution_count": 141,
   "id": "ef5c9c0f",
   "metadata": {},
   "outputs": [
    {
     "data": {
      "application/vnd.plotly.v1+json": {
       "config": {
        "plotlyServerURL": "https://plot.ly"
       },
       "data": [
        {
         "hovertemplate": "Name=%{x}<br>Employees=%{y}<extra></extra>",
         "legendgroup": "",
         "line": {
          "color": "#fde725",
          "dash": "solid",
          "shape": "linear"
         },
         "marker": {
          "size": [
           16,
           8,
           8,
           8,
           8,
           8,
           8,
           8,
           8,
           8,
           8,
           8,
           8,
           8,
           8,
           8,
           8,
           8,
           8,
           8,
           8,
           8,
           8,
           8,
           8,
           8,
           8,
           8,
           8,
           8,
           8,
           8,
           8,
           8,
           8,
           8,
           8,
           8,
           8,
           8,
           8,
           8,
           8,
           8,
           8,
           8,
           8,
           8,
           8,
           8
          ],
          "symbol": "circle"
         },
         "mode": "lines",
         "name": "",
         "orientation": "v",
         "showlegend": false,
         "type": "scatter",
         "x": [
          "Walmart",
          "Amazon",
          "The Home Depot",
          "FedEx",
          "Target Corporation",
          "Kroger",
          "United Parcel Service",
          "Berkshire Hathaway",
          "UnitedHealth Group",
          "TJX",
          "PepsiCo",
          "Albertsons",
          "IBM",
          "Costco",
          "JPMorgan Chase",
          "Lowe's",
          "Walgreens Boots Alliance",
          "CVS Health",
          "Wells Fargo",
          "HCA Healthcare",
          "Publix",
          "Citigroup",
          "Bank of America",
          "AT&T",
          "Comcast",
          "Ford Motor Company",
          "Microsoft",
          "Raytheon Technologies",
          "The Walt Disney Company",
          "General Electric",
          "General Motors",
          "Alphabet",
          "Apple",
          "Boeing",
          "Johnson & Johnson",
          "Tyson Foods",
          "Dell Technologies",
          "Oracle Corporation",
          "Thermo Fisher Scientific",
          "Intel",
          "Verizon Communications",
          "Lockheed Martin",
          "Abbott Laboratories",
          "Novartis",
          "Caterpillar",
          "General Dynamics",
          "Procter & Gamble",
          "Tesla",
          "Elevance Health",
          "GSK plc"
         ],
         "xaxis": "x",
         "y": [
          2300000,
          1608000,
          490600,
          484000,
          450000,
          420000,
          400945,
          372000,
          350000,
          340000,
          309000,
          300000,
          297800,
          288000,
          271025,
          270000,
          258500,
          258000,
          247848,
          244000,
          232000,
          221768,
          208248,
          202600,
          189000,
          183000,
          181000,
          174000,
          171000,
          168000,
          157000,
          156000,
          154000,
          142000,
          141700,
          137000,
          133000,
          132000,
          129000,
          121100,
          118400,
          114000,
          113000,
          110000,
          107700,
          103100,
          101000,
          99290,
          98200,
          97000
         ],
         "yaxis": "y"
        }
       ],
       "layout": {
        "height": 600,
        "legend": {
         "tracegroupgap": 0
        },
        "margin": {
         "t": 60
        },
        "plot_bgcolor": "white",
        "template": {
         "data": {
          "bar": [
           {
            "error_x": {
             "color": "#2a3f5f"
            },
            "error_y": {
             "color": "#2a3f5f"
            },
            "marker": {
             "line": {
              "color": "#E5ECF6",
              "width": 0.5
             },
             "pattern": {
              "fillmode": "overlay",
              "size": 10,
              "solidity": 0.2
             }
            },
            "type": "bar"
           }
          ],
          "barpolar": [
           {
            "marker": {
             "line": {
              "color": "#E5ECF6",
              "width": 0.5
             },
             "pattern": {
              "fillmode": "overlay",
              "size": 10,
              "solidity": 0.2
             }
            },
            "type": "barpolar"
           }
          ],
          "carpet": [
           {
            "aaxis": {
             "endlinecolor": "#2a3f5f",
             "gridcolor": "white",
             "linecolor": "white",
             "minorgridcolor": "white",
             "startlinecolor": "#2a3f5f"
            },
            "baxis": {
             "endlinecolor": "#2a3f5f",
             "gridcolor": "white",
             "linecolor": "white",
             "minorgridcolor": "white",
             "startlinecolor": "#2a3f5f"
            },
            "type": "carpet"
           }
          ],
          "choropleth": [
           {
            "colorbar": {
             "outlinewidth": 0,
             "ticks": ""
            },
            "type": "choropleth"
           }
          ],
          "contour": [
           {
            "colorbar": {
             "outlinewidth": 0,
             "ticks": ""
            },
            "colorscale": [
             [
              0,
              "#0d0887"
             ],
             [
              0.1111111111111111,
              "#46039f"
             ],
             [
              0.2222222222222222,
              "#7201a8"
             ],
             [
              0.3333333333333333,
              "#9c179e"
             ],
             [
              0.4444444444444444,
              "#bd3786"
             ],
             [
              0.5555555555555556,
              "#d8576b"
             ],
             [
              0.6666666666666666,
              "#ed7953"
             ],
             [
              0.7777777777777778,
              "#fb9f3a"
             ],
             [
              0.8888888888888888,
              "#fdca26"
             ],
             [
              1,
              "#f0f921"
             ]
            ],
            "type": "contour"
           }
          ],
          "contourcarpet": [
           {
            "colorbar": {
             "outlinewidth": 0,
             "ticks": ""
            },
            "type": "contourcarpet"
           }
          ],
          "heatmap": [
           {
            "colorbar": {
             "outlinewidth": 0,
             "ticks": ""
            },
            "colorscale": [
             [
              0,
              "#0d0887"
             ],
             [
              0.1111111111111111,
              "#46039f"
             ],
             [
              0.2222222222222222,
              "#7201a8"
             ],
             [
              0.3333333333333333,
              "#9c179e"
             ],
             [
              0.4444444444444444,
              "#bd3786"
             ],
             [
              0.5555555555555556,
              "#d8576b"
             ],
             [
              0.6666666666666666,
              "#ed7953"
             ],
             [
              0.7777777777777778,
              "#fb9f3a"
             ],
             [
              0.8888888888888888,
              "#fdca26"
             ],
             [
              1,
              "#f0f921"
             ]
            ],
            "type": "heatmap"
           }
          ],
          "heatmapgl": [
           {
            "colorbar": {
             "outlinewidth": 0,
             "ticks": ""
            },
            "colorscale": [
             [
              0,
              "#0d0887"
             ],
             [
              0.1111111111111111,
              "#46039f"
             ],
             [
              0.2222222222222222,
              "#7201a8"
             ],
             [
              0.3333333333333333,
              "#9c179e"
             ],
             [
              0.4444444444444444,
              "#bd3786"
             ],
             [
              0.5555555555555556,
              "#d8576b"
             ],
             [
              0.6666666666666666,
              "#ed7953"
             ],
             [
              0.7777777777777778,
              "#fb9f3a"
             ],
             [
              0.8888888888888888,
              "#fdca26"
             ],
             [
              1,
              "#f0f921"
             ]
            ],
            "type": "heatmapgl"
           }
          ],
          "histogram": [
           {
            "marker": {
             "pattern": {
              "fillmode": "overlay",
              "size": 10,
              "solidity": 0.2
             }
            },
            "type": "histogram"
           }
          ],
          "histogram2d": [
           {
            "colorbar": {
             "outlinewidth": 0,
             "ticks": ""
            },
            "colorscale": [
             [
              0,
              "#0d0887"
             ],
             [
              0.1111111111111111,
              "#46039f"
             ],
             [
              0.2222222222222222,
              "#7201a8"
             ],
             [
              0.3333333333333333,
              "#9c179e"
             ],
             [
              0.4444444444444444,
              "#bd3786"
             ],
             [
              0.5555555555555556,
              "#d8576b"
             ],
             [
              0.6666666666666666,
              "#ed7953"
             ],
             [
              0.7777777777777778,
              "#fb9f3a"
             ],
             [
              0.8888888888888888,
              "#fdca26"
             ],
             [
              1,
              "#f0f921"
             ]
            ],
            "type": "histogram2d"
           }
          ],
          "histogram2dcontour": [
           {
            "colorbar": {
             "outlinewidth": 0,
             "ticks": ""
            },
            "colorscale": [
             [
              0,
              "#0d0887"
             ],
             [
              0.1111111111111111,
              "#46039f"
             ],
             [
              0.2222222222222222,
              "#7201a8"
             ],
             [
              0.3333333333333333,
              "#9c179e"
             ],
             [
              0.4444444444444444,
              "#bd3786"
             ],
             [
              0.5555555555555556,
              "#d8576b"
             ],
             [
              0.6666666666666666,
              "#ed7953"
             ],
             [
              0.7777777777777778,
              "#fb9f3a"
             ],
             [
              0.8888888888888888,
              "#fdca26"
             ],
             [
              1,
              "#f0f921"
             ]
            ],
            "type": "histogram2dcontour"
           }
          ],
          "mesh3d": [
           {
            "colorbar": {
             "outlinewidth": 0,
             "ticks": ""
            },
            "type": "mesh3d"
           }
          ],
          "parcoords": [
           {
            "line": {
             "colorbar": {
              "outlinewidth": 0,
              "ticks": ""
             }
            },
            "type": "parcoords"
           }
          ],
          "pie": [
           {
            "automargin": true,
            "type": "pie"
           }
          ],
          "scatter": [
           {
            "fillpattern": {
             "fillmode": "overlay",
             "size": 10,
             "solidity": 0.2
            },
            "type": "scatter"
           }
          ],
          "scatter3d": [
           {
            "line": {
             "colorbar": {
              "outlinewidth": 0,
              "ticks": ""
             }
            },
            "marker": {
             "colorbar": {
              "outlinewidth": 0,
              "ticks": ""
             }
            },
            "type": "scatter3d"
           }
          ],
          "scattercarpet": [
           {
            "marker": {
             "colorbar": {
              "outlinewidth": 0,
              "ticks": ""
             }
            },
            "type": "scattercarpet"
           }
          ],
          "scattergeo": [
           {
            "marker": {
             "colorbar": {
              "outlinewidth": 0,
              "ticks": ""
             }
            },
            "type": "scattergeo"
           }
          ],
          "scattergl": [
           {
            "marker": {
             "colorbar": {
              "outlinewidth": 0,
              "ticks": ""
             }
            },
            "type": "scattergl"
           }
          ],
          "scattermapbox": [
           {
            "marker": {
             "colorbar": {
              "outlinewidth": 0,
              "ticks": ""
             }
            },
            "type": "scattermapbox"
           }
          ],
          "scatterpolar": [
           {
            "marker": {
             "colorbar": {
              "outlinewidth": 0,
              "ticks": ""
             }
            },
            "type": "scatterpolar"
           }
          ],
          "scatterpolargl": [
           {
            "marker": {
             "colorbar": {
              "outlinewidth": 0,
              "ticks": ""
             }
            },
            "type": "scatterpolargl"
           }
          ],
          "scatterternary": [
           {
            "marker": {
             "colorbar": {
              "outlinewidth": 0,
              "ticks": ""
             }
            },
            "type": "scatterternary"
           }
          ],
          "surface": [
           {
            "colorbar": {
             "outlinewidth": 0,
             "ticks": ""
            },
            "colorscale": [
             [
              0,
              "#0d0887"
             ],
             [
              0.1111111111111111,
              "#46039f"
             ],
             [
              0.2222222222222222,
              "#7201a8"
             ],
             [
              0.3333333333333333,
              "#9c179e"
             ],
             [
              0.4444444444444444,
              "#bd3786"
             ],
             [
              0.5555555555555556,
              "#d8576b"
             ],
             [
              0.6666666666666666,
              "#ed7953"
             ],
             [
              0.7777777777777778,
              "#fb9f3a"
             ],
             [
              0.8888888888888888,
              "#fdca26"
             ],
             [
              1,
              "#f0f921"
             ]
            ],
            "type": "surface"
           }
          ],
          "table": [
           {
            "cells": {
             "fill": {
              "color": "#EBF0F8"
             },
             "line": {
              "color": "white"
             }
            },
            "header": {
             "fill": {
              "color": "#C8D4E3"
             },
             "line": {
              "color": "white"
             }
            },
            "type": "table"
           }
          ]
         },
         "layout": {
          "annotationdefaults": {
           "arrowcolor": "#2a3f5f",
           "arrowhead": 0,
           "arrowwidth": 1
          },
          "autotypenumbers": "strict",
          "coloraxis": {
           "colorbar": {
            "outlinewidth": 0,
            "ticks": ""
           }
          },
          "colorscale": {
           "diverging": [
            [
             0,
             "#8e0152"
            ],
            [
             0.1,
             "#c51b7d"
            ],
            [
             0.2,
             "#de77ae"
            ],
            [
             0.3,
             "#f1b6da"
            ],
            [
             0.4,
             "#fde0ef"
            ],
            [
             0.5,
             "#f7f7f7"
            ],
            [
             0.6,
             "#e6f5d0"
            ],
            [
             0.7,
             "#b8e186"
            ],
            [
             0.8,
             "#7fbc41"
            ],
            [
             0.9,
             "#4d9221"
            ],
            [
             1,
             "#276419"
            ]
           ],
           "sequential": [
            [
             0,
             "#0d0887"
            ],
            [
             0.1111111111111111,
             "#46039f"
            ],
            [
             0.2222222222222222,
             "#7201a8"
            ],
            [
             0.3333333333333333,
             "#9c179e"
            ],
            [
             0.4444444444444444,
             "#bd3786"
            ],
            [
             0.5555555555555556,
             "#d8576b"
            ],
            [
             0.6666666666666666,
             "#ed7953"
            ],
            [
             0.7777777777777778,
             "#fb9f3a"
            ],
            [
             0.8888888888888888,
             "#fdca26"
            ],
            [
             1,
             "#f0f921"
            ]
           ],
           "sequentialminus": [
            [
             0,
             "#0d0887"
            ],
            [
             0.1111111111111111,
             "#46039f"
            ],
            [
             0.2222222222222222,
             "#7201a8"
            ],
            [
             0.3333333333333333,
             "#9c179e"
            ],
            [
             0.4444444444444444,
             "#bd3786"
            ],
            [
             0.5555555555555556,
             "#d8576b"
            ],
            [
             0.6666666666666666,
             "#ed7953"
            ],
            [
             0.7777777777777778,
             "#fb9f3a"
            ],
            [
             0.8888888888888888,
             "#fdca26"
            ],
            [
             1,
             "#f0f921"
            ]
           ]
          },
          "colorway": [
           "#636efa",
           "#EF553B",
           "#00cc96",
           "#ab63fa",
           "#FFA15A",
           "#19d3f3",
           "#FF6692",
           "#B6E880",
           "#FF97FF",
           "#FECB52"
          ],
          "font": {
           "color": "#2a3f5f"
          },
          "geo": {
           "bgcolor": "white",
           "lakecolor": "white",
           "landcolor": "#E5ECF6",
           "showlakes": true,
           "showland": true,
           "subunitcolor": "white"
          },
          "hoverlabel": {
           "align": "left"
          },
          "hovermode": "closest",
          "mapbox": {
           "style": "light"
          },
          "paper_bgcolor": "white",
          "plot_bgcolor": "#E5ECF6",
          "polar": {
           "angularaxis": {
            "gridcolor": "white",
            "linecolor": "white",
            "ticks": ""
           },
           "bgcolor": "#E5ECF6",
           "radialaxis": {
            "gridcolor": "white",
            "linecolor": "white",
            "ticks": ""
           }
          },
          "scene": {
           "xaxis": {
            "backgroundcolor": "#E5ECF6",
            "gridcolor": "white",
            "gridwidth": 2,
            "linecolor": "white",
            "showbackground": true,
            "ticks": "",
            "zerolinecolor": "white"
           },
           "yaxis": {
            "backgroundcolor": "#E5ECF6",
            "gridcolor": "white",
            "gridwidth": 2,
            "linecolor": "white",
            "showbackground": true,
            "ticks": "",
            "zerolinecolor": "white"
           },
           "zaxis": {
            "backgroundcolor": "#E5ECF6",
            "gridcolor": "white",
            "gridwidth": 2,
            "linecolor": "white",
            "showbackground": true,
            "ticks": "",
            "zerolinecolor": "white"
           }
          },
          "shapedefaults": {
           "line": {
            "color": "#2a3f5f"
           }
          },
          "ternary": {
           "aaxis": {
            "gridcolor": "white",
            "linecolor": "white",
            "ticks": ""
           },
           "baxis": {
            "gridcolor": "white",
            "linecolor": "white",
            "ticks": ""
           },
           "bgcolor": "#E5ECF6",
           "caxis": {
            "gridcolor": "white",
            "linecolor": "white",
            "ticks": ""
           }
          },
          "title": {
           "x": 0.05
          },
          "xaxis": {
           "automargin": true,
           "gridcolor": "white",
           "linecolor": "white",
           "ticks": "",
           "title": {
            "standoff": 15
           },
           "zerolinecolor": "white",
           "zerolinewidth": 2
          },
          "yaxis": {
           "automargin": true,
           "gridcolor": "white",
           "linecolor": "white",
           "ticks": "",
           "title": {
            "standoff": 15
           },
           "zerolinecolor": "white",
           "zerolinewidth": 2
          }
         }
        },
        "title": {
         "text": "Top 50 Employees Comparison (Line Plot)"
        },
        "width": 1000,
        "xaxis": {
         "anchor": "y",
         "domain": [
          0,
          1
         ],
         "gridcolor": "lightgray",
         "gridwidth": 0.25,
         "showgrid": true,
         "tickfont": {
          "size": 10
         },
         "title": {
          "text": "Name"
         }
        },
        "yaxis": {
         "anchor": "x",
         "domain": [
          0,
          1
         ],
         "gridcolor": "lightgray",
         "gridwidth": 0.25,
         "showgrid": true,
         "tickfont": {
          "size": 10
         },
         "title": {
          "text": "Employees"
         }
        }
       }
      },
      "text/html": [
       "<div>                            <div id=\"b85bf954-36c0-4dce-a3a1-d0b4e8cd7ded\" class=\"plotly-graph-div\" style=\"height:600px; width:1000px;\"></div>            <script type=\"text/javascript\">                require([\"plotly\"], function(Plotly) {                    window.PLOTLYENV=window.PLOTLYENV || {};                                    if (document.getElementById(\"b85bf954-36c0-4dce-a3a1-d0b4e8cd7ded\")) {                    Plotly.newPlot(                        \"b85bf954-36c0-4dce-a3a1-d0b4e8cd7ded\",                        [{\"hovertemplate\":\"Name=%{x}<br>Employees=%{y}<extra></extra>\",\"legendgroup\":\"\",\"line\":{\"color\":\"#fde725\",\"dash\":\"solid\",\"shape\":\"linear\"},\"marker\":{\"symbol\":\"circle\",\"size\":[16,8,8,8,8,8,8,8,8,8,8,8,8,8,8,8,8,8,8,8,8,8,8,8,8,8,8,8,8,8,8,8,8,8,8,8,8,8,8,8,8,8,8,8,8,8,8,8,8,8]},\"mode\":\"lines\",\"name\":\"\",\"orientation\":\"v\",\"showlegend\":false,\"x\":[\"Walmart\",\"Amazon\",\"The Home Depot\",\"FedEx\",\"Target Corporation\",\"Kroger\",\"United Parcel Service\",\"Berkshire Hathaway\",\"UnitedHealth Group\",\"TJX\",\"PepsiCo\",\"Albertsons\",\"IBM\",\"Costco\",\"JPMorgan Chase\",\"Lowe's\",\"Walgreens Boots Alliance\",\"CVS Health\",\"Wells Fargo\",\"HCA Healthcare\",\"Publix\",\"Citigroup\",\"Bank of America\",\"AT&T\",\"Comcast\",\"Ford Motor Company\",\"Microsoft\",\"Raytheon Technologies\",\"The Walt Disney Company\",\"General Electric\",\"General Motors\",\"Alphabet\",\"Apple\",\"Boeing\",\"Johnson & Johnson\",\"Tyson Foods\",\"Dell Technologies\",\"Oracle Corporation\",\"Thermo Fisher Scientific\",\"Intel\",\"Verizon Communications\",\"Lockheed Martin\",\"Abbott Laboratories\",\"Novartis\",\"Caterpillar\",\"General Dynamics\",\"Procter & Gamble\",\"Tesla\",\"Elevance Health\",\"GSK plc\"],\"xaxis\":\"x\",\"y\":[2300000,1608000,490600,484000,450000,420000,400945,372000,350000,340000,309000,300000,297800,288000,271025,270000,258500,258000,247848,244000,232000,221768,208248,202600,189000,183000,181000,174000,171000,168000,157000,156000,154000,142000,141700,137000,133000,132000,129000,121100,118400,114000,113000,110000,107700,103100,101000,99290,98200,97000],\"yaxis\":\"y\",\"type\":\"scatter\"}],                        {\"template\":{\"data\":{\"histogram2dcontour\":[{\"type\":\"histogram2dcontour\",\"colorbar\":{\"outlinewidth\":0,\"ticks\":\"\"},\"colorscale\":[[0.0,\"#0d0887\"],[0.1111111111111111,\"#46039f\"],[0.2222222222222222,\"#7201a8\"],[0.3333333333333333,\"#9c179e\"],[0.4444444444444444,\"#bd3786\"],[0.5555555555555556,\"#d8576b\"],[0.6666666666666666,\"#ed7953\"],[0.7777777777777778,\"#fb9f3a\"],[0.8888888888888888,\"#fdca26\"],[1.0,\"#f0f921\"]]}],\"choropleth\":[{\"type\":\"choropleth\",\"colorbar\":{\"outlinewidth\":0,\"ticks\":\"\"}}],\"histogram2d\":[{\"type\":\"histogram2d\",\"colorbar\":{\"outlinewidth\":0,\"ticks\":\"\"},\"colorscale\":[[0.0,\"#0d0887\"],[0.1111111111111111,\"#46039f\"],[0.2222222222222222,\"#7201a8\"],[0.3333333333333333,\"#9c179e\"],[0.4444444444444444,\"#bd3786\"],[0.5555555555555556,\"#d8576b\"],[0.6666666666666666,\"#ed7953\"],[0.7777777777777778,\"#fb9f3a\"],[0.8888888888888888,\"#fdca26\"],[1.0,\"#f0f921\"]]}],\"heatmap\":[{\"type\":\"heatmap\",\"colorbar\":{\"outlinewidth\":0,\"ticks\":\"\"},\"colorscale\":[[0.0,\"#0d0887\"],[0.1111111111111111,\"#46039f\"],[0.2222222222222222,\"#7201a8\"],[0.3333333333333333,\"#9c179e\"],[0.4444444444444444,\"#bd3786\"],[0.5555555555555556,\"#d8576b\"],[0.6666666666666666,\"#ed7953\"],[0.7777777777777778,\"#fb9f3a\"],[0.8888888888888888,\"#fdca26\"],[1.0,\"#f0f921\"]]}],\"heatmapgl\":[{\"type\":\"heatmapgl\",\"colorbar\":{\"outlinewidth\":0,\"ticks\":\"\"},\"colorscale\":[[0.0,\"#0d0887\"],[0.1111111111111111,\"#46039f\"],[0.2222222222222222,\"#7201a8\"],[0.3333333333333333,\"#9c179e\"],[0.4444444444444444,\"#bd3786\"],[0.5555555555555556,\"#d8576b\"],[0.6666666666666666,\"#ed7953\"],[0.7777777777777778,\"#fb9f3a\"],[0.8888888888888888,\"#fdca26\"],[1.0,\"#f0f921\"]]}],\"contourcarpet\":[{\"type\":\"contourcarpet\",\"colorbar\":{\"outlinewidth\":0,\"ticks\":\"\"}}],\"contour\":[{\"type\":\"contour\",\"colorbar\":{\"outlinewidth\":0,\"ticks\":\"\"},\"colorscale\":[[0.0,\"#0d0887\"],[0.1111111111111111,\"#46039f\"],[0.2222222222222222,\"#7201a8\"],[0.3333333333333333,\"#9c179e\"],[0.4444444444444444,\"#bd3786\"],[0.5555555555555556,\"#d8576b\"],[0.6666666666666666,\"#ed7953\"],[0.7777777777777778,\"#fb9f3a\"],[0.8888888888888888,\"#fdca26\"],[1.0,\"#f0f921\"]]}],\"surface\":[{\"type\":\"surface\",\"colorbar\":{\"outlinewidth\":0,\"ticks\":\"\"},\"colorscale\":[[0.0,\"#0d0887\"],[0.1111111111111111,\"#46039f\"],[0.2222222222222222,\"#7201a8\"],[0.3333333333333333,\"#9c179e\"],[0.4444444444444444,\"#bd3786\"],[0.5555555555555556,\"#d8576b\"],[0.6666666666666666,\"#ed7953\"],[0.7777777777777778,\"#fb9f3a\"],[0.8888888888888888,\"#fdca26\"],[1.0,\"#f0f921\"]]}],\"mesh3d\":[{\"type\":\"mesh3d\",\"colorbar\":{\"outlinewidth\":0,\"ticks\":\"\"}}],\"scatter\":[{\"fillpattern\":{\"fillmode\":\"overlay\",\"size\":10,\"solidity\":0.2},\"type\":\"scatter\"}],\"parcoords\":[{\"type\":\"parcoords\",\"line\":{\"colorbar\":{\"outlinewidth\":0,\"ticks\":\"\"}}}],\"scatterpolargl\":[{\"type\":\"scatterpolargl\",\"marker\":{\"colorbar\":{\"outlinewidth\":0,\"ticks\":\"\"}}}],\"bar\":[{\"error_x\":{\"color\":\"#2a3f5f\"},\"error_y\":{\"color\":\"#2a3f5f\"},\"marker\":{\"line\":{\"color\":\"#E5ECF6\",\"width\":0.5},\"pattern\":{\"fillmode\":\"overlay\",\"size\":10,\"solidity\":0.2}},\"type\":\"bar\"}],\"scattergeo\":[{\"type\":\"scattergeo\",\"marker\":{\"colorbar\":{\"outlinewidth\":0,\"ticks\":\"\"}}}],\"scatterpolar\":[{\"type\":\"scatterpolar\",\"marker\":{\"colorbar\":{\"outlinewidth\":0,\"ticks\":\"\"}}}],\"histogram\":[{\"marker\":{\"pattern\":{\"fillmode\":\"overlay\",\"size\":10,\"solidity\":0.2}},\"type\":\"histogram\"}],\"scattergl\":[{\"type\":\"scattergl\",\"marker\":{\"colorbar\":{\"outlinewidth\":0,\"ticks\":\"\"}}}],\"scatter3d\":[{\"type\":\"scatter3d\",\"line\":{\"colorbar\":{\"outlinewidth\":0,\"ticks\":\"\"}},\"marker\":{\"colorbar\":{\"outlinewidth\":0,\"ticks\":\"\"}}}],\"scattermapbox\":[{\"type\":\"scattermapbox\",\"marker\":{\"colorbar\":{\"outlinewidth\":0,\"ticks\":\"\"}}}],\"scatterternary\":[{\"type\":\"scatterternary\",\"marker\":{\"colorbar\":{\"outlinewidth\":0,\"ticks\":\"\"}}}],\"scattercarpet\":[{\"type\":\"scattercarpet\",\"marker\":{\"colorbar\":{\"outlinewidth\":0,\"ticks\":\"\"}}}],\"carpet\":[{\"aaxis\":{\"endlinecolor\":\"#2a3f5f\",\"gridcolor\":\"white\",\"linecolor\":\"white\",\"minorgridcolor\":\"white\",\"startlinecolor\":\"#2a3f5f\"},\"baxis\":{\"endlinecolor\":\"#2a3f5f\",\"gridcolor\":\"white\",\"linecolor\":\"white\",\"minorgridcolor\":\"white\",\"startlinecolor\":\"#2a3f5f\"},\"type\":\"carpet\"}],\"table\":[{\"cells\":{\"fill\":{\"color\":\"#EBF0F8\"},\"line\":{\"color\":\"white\"}},\"header\":{\"fill\":{\"color\":\"#C8D4E3\"},\"line\":{\"color\":\"white\"}},\"type\":\"table\"}],\"barpolar\":[{\"marker\":{\"line\":{\"color\":\"#E5ECF6\",\"width\":0.5},\"pattern\":{\"fillmode\":\"overlay\",\"size\":10,\"solidity\":0.2}},\"type\":\"barpolar\"}],\"pie\":[{\"automargin\":true,\"type\":\"pie\"}]},\"layout\":{\"autotypenumbers\":\"strict\",\"colorway\":[\"#636efa\",\"#EF553B\",\"#00cc96\",\"#ab63fa\",\"#FFA15A\",\"#19d3f3\",\"#FF6692\",\"#B6E880\",\"#FF97FF\",\"#FECB52\"],\"font\":{\"color\":\"#2a3f5f\"},\"hovermode\":\"closest\",\"hoverlabel\":{\"align\":\"left\"},\"paper_bgcolor\":\"white\",\"plot_bgcolor\":\"#E5ECF6\",\"polar\":{\"bgcolor\":\"#E5ECF6\",\"angularaxis\":{\"gridcolor\":\"white\",\"linecolor\":\"white\",\"ticks\":\"\"},\"radialaxis\":{\"gridcolor\":\"white\",\"linecolor\":\"white\",\"ticks\":\"\"}},\"ternary\":{\"bgcolor\":\"#E5ECF6\",\"aaxis\":{\"gridcolor\":\"white\",\"linecolor\":\"white\",\"ticks\":\"\"},\"baxis\":{\"gridcolor\":\"white\",\"linecolor\":\"white\",\"ticks\":\"\"},\"caxis\":{\"gridcolor\":\"white\",\"linecolor\":\"white\",\"ticks\":\"\"}},\"coloraxis\":{\"colorbar\":{\"outlinewidth\":0,\"ticks\":\"\"}},\"colorscale\":{\"sequential\":[[0.0,\"#0d0887\"],[0.1111111111111111,\"#46039f\"],[0.2222222222222222,\"#7201a8\"],[0.3333333333333333,\"#9c179e\"],[0.4444444444444444,\"#bd3786\"],[0.5555555555555556,\"#d8576b\"],[0.6666666666666666,\"#ed7953\"],[0.7777777777777778,\"#fb9f3a\"],[0.8888888888888888,\"#fdca26\"],[1.0,\"#f0f921\"]],\"sequentialminus\":[[0.0,\"#0d0887\"],[0.1111111111111111,\"#46039f\"],[0.2222222222222222,\"#7201a8\"],[0.3333333333333333,\"#9c179e\"],[0.4444444444444444,\"#bd3786\"],[0.5555555555555556,\"#d8576b\"],[0.6666666666666666,\"#ed7953\"],[0.7777777777777778,\"#fb9f3a\"],[0.8888888888888888,\"#fdca26\"],[1.0,\"#f0f921\"]],\"diverging\":[[0,\"#8e0152\"],[0.1,\"#c51b7d\"],[0.2,\"#de77ae\"],[0.3,\"#f1b6da\"],[0.4,\"#fde0ef\"],[0.5,\"#f7f7f7\"],[0.6,\"#e6f5d0\"],[0.7,\"#b8e186\"],[0.8,\"#7fbc41\"],[0.9,\"#4d9221\"],[1,\"#276419\"]]},\"xaxis\":{\"gridcolor\":\"white\",\"linecolor\":\"white\",\"ticks\":\"\",\"title\":{\"standoff\":15},\"zerolinecolor\":\"white\",\"automargin\":true,\"zerolinewidth\":2},\"yaxis\":{\"gridcolor\":\"white\",\"linecolor\":\"white\",\"ticks\":\"\",\"title\":{\"standoff\":15},\"zerolinecolor\":\"white\",\"automargin\":true,\"zerolinewidth\":2},\"scene\":{\"xaxis\":{\"backgroundcolor\":\"#E5ECF6\",\"gridcolor\":\"white\",\"linecolor\":\"white\",\"showbackground\":true,\"ticks\":\"\",\"zerolinecolor\":\"white\",\"gridwidth\":2},\"yaxis\":{\"backgroundcolor\":\"#E5ECF6\",\"gridcolor\":\"white\",\"linecolor\":\"white\",\"showbackground\":true,\"ticks\":\"\",\"zerolinecolor\":\"white\",\"gridwidth\":2},\"zaxis\":{\"backgroundcolor\":\"#E5ECF6\",\"gridcolor\":\"white\",\"linecolor\":\"white\",\"showbackground\":true,\"ticks\":\"\",\"zerolinecolor\":\"white\",\"gridwidth\":2}},\"shapedefaults\":{\"line\":{\"color\":\"#2a3f5f\"}},\"annotationdefaults\":{\"arrowcolor\":\"#2a3f5f\",\"arrowhead\":0,\"arrowwidth\":1},\"geo\":{\"bgcolor\":\"white\",\"landcolor\":\"#E5ECF6\",\"subunitcolor\":\"white\",\"showland\":true,\"showlakes\":true,\"lakecolor\":\"white\"},\"title\":{\"x\":0.05},\"mapbox\":{\"style\":\"light\"}}},\"xaxis\":{\"anchor\":\"y\",\"domain\":[0.0,1.0],\"title\":{\"text\":\"Name\"},\"tickfont\":{\"size\":10},\"showgrid\":true,\"gridcolor\":\"lightgray\",\"gridwidth\":0.25},\"yaxis\":{\"anchor\":\"x\",\"domain\":[0.0,1.0],\"title\":{\"text\":\"Employees\"},\"tickfont\":{\"size\":10},\"showgrid\":true,\"gridcolor\":\"lightgray\",\"gridwidth\":0.25},\"legend\":{\"tracegroupgap\":0},\"margin\":{\"t\":60},\"title\":{\"text\":\"Top 50 Employees Comparison (Line Plot)\"},\"plot_bgcolor\":\"white\",\"width\":1000,\"height\":600},                        {\"responsive\": true}                    ).then(function(){\n",
       "                            \n",
       "var gd = document.getElementById('b85bf954-36c0-4dce-a3a1-d0b4e8cd7ded');\n",
       "var x = new MutationObserver(function (mutations, observer) {{\n",
       "        var display = window.getComputedStyle(gd).display;\n",
       "        if (!display || display === 'none') {{\n",
       "            console.log([gd, 'removed!']);\n",
       "            Plotly.purge(gd);\n",
       "            observer.disconnect();\n",
       "        }}\n",
       "}});\n",
       "\n",
       "// Listen for the removal of the full notebook cells\n",
       "var notebookContainer = gd.closest('#notebook-container');\n",
       "if (notebookContainer) {{\n",
       "    x.observe(notebookContainer, {childList: true});\n",
       "}}\n",
       "\n",
       "// Listen for the clearing of the current output cell\n",
       "var outputEl = gd.closest('.output');\n",
       "if (outputEl) {{\n",
       "    x.observe(outputEl, {childList: true});\n",
       "}}\n",
       "\n",
       "                        })                };                });            </script>        </div>"
      ]
     },
     "metadata": {},
     "output_type": "display_data"
    }
   ],
   "source": [
    "import plotly.express as px\n",
    "\n",
    "# Get the top 50 categories by employees\n",
    "top_50_categories = df.nlargest(50, 'Employees')\n",
    "\n",
    "# Create a line plot using Plotly Express\n",
    "fig = px.line(\n",
    "    top_50_categories,\n",
    "    x='Name',\n",
    "    y='Employees',\n",
    "    line_shape='linear',  # Use straight lines instead of curves\n",
    "    color_discrete_sequence=px.colors.sequential.Viridis_r,  # Apply the Viridis color scale in reverse order\n",
    ")\n",
    "\n",
    "# Increase marker size for the highest value\n",
    "highest_employees = top_50_categories['Employees'].max()\n",
    "fig.update_traces(marker=dict(size=[16 if employees == highest_employees else 8 for employees in top_50_categories['Employees']]))\n",
    "\n",
    "# Set layout properties for the plot\n",
    "fig.update_layout(\n",
    "    title='Top 50 Employees Comparison (Line Plot)',\n",
    "    xaxis=dict(\n",
    "        title='Name',\n",
    "        showgrid=True,\n",
    "        gridcolor='lightgray',  # Add grid lines\n",
    "        gridwidth=0.25,        # Set grid line width\n",
    "        tickfont=dict(size=10)  # Adjust x-axis tick font size\n",
    "    ),\n",
    "    yaxis=dict(\n",
    "        title='Employees',\n",
    "        showgrid=True,\n",
    "        gridcolor='lightgray',  # Add grid lines\n",
    "        gridwidth=0.25,        # Set grid line width\n",
    "        tickfont=dict(size=10)  # Adjust y-axis tick font size\n",
    "    ),\n",
    "    plot_bgcolor='white',  # Set plot background color\n",
    "    width=1000,             # Increase the plot width\n",
    "    height=600              # Increase the plot height\n",
    ")\n",
    "\n",
    "fig.show()"
   ]
  }
 ],
 "metadata": {
  "kernelspec": {
   "display_name": "Python 3 (ipykernel)",
   "language": "python",
   "name": "python3"
  },
  "language_info": {
   "codemirror_mode": {
    "name": "ipython",
    "version": 3
   },
   "file_extension": ".py",
   "mimetype": "text/x-python",
   "name": "python",
   "nbconvert_exporter": "python",
   "pygments_lexer": "ipython3",
   "version": "3.11.3"
  }
 },
 "nbformat": 4,
 "nbformat_minor": 5
}
